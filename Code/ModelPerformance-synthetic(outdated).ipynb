{
 "cells": [
  {
   "cell_type": "markdown",
   "id": "5a985a46-40a8-4d69-be13-16d2d89d9a99",
   "metadata": {},
   "source": [
    "# Model Performance\n"
   ]
  },
  {
   "cell_type": "code",
   "execution_count": 3,
   "id": "4bc556b3-a105-4a5c-9768-6f1a979ca784",
   "metadata": {},
   "outputs": [],
   "source": [
    "from sklearn.metrics import accuracy_score\n",
    "import xgboost as xgb\n",
    "from sklearn.model_selection import train_test_split\n",
    "import numpy as np\n",
    "import matplotlib.pyplot as plt\n",
    "import pandas as pd\n",
    "import openpyxl\n",
    "import math\n",
    "from sklearn.ensemble import RandomForestRegressor\n",
    "from sklearn.metrics import mean_squared_error, mean_absolute_error, r2_score, make_scorer\n",
    "from sklearn.tree import DecisionTreeRegressor\n",
    "from sklearn.model_selection import RandomizedSearchCV, GridSearchCV\n",
    "from sklearn.model_selection import cross_val_score, KFold, cross_validate, cross_val_predict\n",
    "from random import randint\n",
    "import warnings\n",
    "import seaborn as sns\n",
    "warnings.filterwarnings('ignore')\n",
    "from sklearn.neural_network import MLPRegressor\n",
    "from sklearn.preprocessing import StandardScaler\n",
    "from sklearn.exceptions import ConvergenceWarning # Import ConvergenceWarning\n",
    "from joblib import parallel_backend\n",
    "from xgboost import XGBRegressor\n"
   ]
  },
  {
   "cell_type": "code",
   "execution_count": 4,
   "id": "dc3f5616-7554-4456-b0fd-35c0c5898c80",
   "metadata": {},
   "outputs": [],
   "source": [
    "df = pd.read_csv('synthetic_data.csv')"
   ]
  },
  {
   "cell_type": "code",
   "execution_count": 5,
   "id": "48f16f02-26f3-44f5-a296-7053056427f0",
   "metadata": {},
   "outputs": [],
   "source": [
    "new_columns = ['TemP (K)', 'PS (mm)', 'BET (m2/g)', 'PV (cm3)', 'C (wt.%)', 'H  (wt.%)', 'N  (wt.%)', 'O  (wt.%)', 'TP_Ciprofloxacin', 'TP_Tetracycline', 'TP_Tetracycline']\n",
    "X = df.drop(['Qm (mg/g)', 'C (wt.%)', 'H  (wt.%)', 'PS (mm)'], axis =1)  # Features\n",
    "y = df['Qm (mg/g)']  # Target"
   ]
  },
  {
   "cell_type": "code",
   "execution_count": 6,
   "id": "af0c3c00-8936-45e2-b33b-63f4ba0bca0b",
   "metadata": {},
   "outputs": [],
   "source": [
    "X_train, X_test, y_train, y_test = train_test_split(X, y, test_size=0.2, random_state=42)"
   ]
  },
  {
   "cell_type": "code",
   "execution_count": 7,
   "id": "9378f89a-b89c-4a04-8401-4c44a4fd58f9",
   "metadata": {},
   "outputs": [],
   "source": [
    "scoring = ['r2', 'neg_mean_absolute_error', 'neg_mean_squared_error']\n"
   ]
  },
  {
   "cell_type": "markdown",
   "id": "1bee5ffa-f543-4b19-bae4-9d149108c41e",
   "metadata": {},
   "source": [
    "## Random Forest Regressor(GridSearchCV)"
   ]
  },
  {
   "cell_type": "code",
   "execution_count": 8,
   "id": "915773c2-5a5f-4d79-9219-c6b09735252f",
   "metadata": {},
   "outputs": [
    {
     "name": "stdout",
     "output_type": "stream",
     "text": [
      "Fitting 5 folds for each of 90 candidates, totalling 450 fits\n",
      "Best Hyperparameters:  {'max_depth': 6, 'min_samples_leaf': 1, 'min_samples_split': 2, 'n_estimators': 150}\n"
     ]
    }
   ],
   "source": [
    "# Define the parameter grid to search through\n",
    "rf_regressor = RandomForestRegressor(random_state=42)\n",
    "param_grid = {\n",
    "    'n_estimators': [15, 25, 50, 100, 150],\n",
    "    'max_depth': [None, 6, 8],\n",
    "    'min_samples_split': [2, 4],\n",
    "    'min_samples_leaf': [1, 2, 4]\n",
    "}\n",
    "\n",
    "# Initialize GridSearchCV with cross-validation on the training set\n",
    "grid_search = GridSearchCV(estimator=rf_regressor, param_grid=param_grid,\n",
    "                           scoring=scoring, refit=\"neg_mean_squared_error\", cv=5, verbose=1, n_jobs=-1, return_train_score=False)\n",
    "\n",
    "# Perform the grid search on the training set\n",
    "grid_search.fit(X_train, y_train)\n",
    "\n",
    "# Extract the best hyperparameters\n",
    "best_params = grid_search.best_params_\n",
    "print(\"Best Hyperparameters: \", best_params)\n",
    "\n",
    "# Extract cross-validation results\n",
    "cv_results = pd.DataFrame(grid_search.cv_results_)\n",
    "\n",
    "# # Extract R-squared and MAE from cross-validation results\n",
    "# cv_results['mean_test_r2'] = cv_results['mean_test_score']\n",
    "# cv_results['mean_test_mae'] = -cv_results['mean_test_score']  # MAE is positive, so negate back"
   ]
  },
  {
   "cell_type": "code",
   "execution_count": 9,
   "id": "6fc1b0c4-c61d-4ce8-94b7-921e965a2e7d",
   "metadata": {},
   "outputs": [],
   "source": [
    "rf_r2 = cv_results[f'mean_test_r2'] *-1\n",
    "mean_rf_r2 = rf_r2.mean()\n",
    "rf_mae = cv_results[f'mean_test_neg_mean_absolute_error'] * -1\n",
    "mean_rf_mae = rf_mae.mean()\n",
    "rf_rmse = np.sqrt(cv_results[f'mean_test_neg_mean_squared_error'] * -1)\n",
    "mean_rf_rmse = rf_rmse.mean()"
   ]
  },
  {
   "cell_type": "code",
   "execution_count": 10,
   "id": "84bbb930-7078-4617-a179-8656889c6262",
   "metadata": {},
   "outputs": [],
   "source": [
    "k_folds = KFold(n_splits = 5)\n",
    "rf_mae = cross_val_score(grid_search.best_estimator_, X, y.values.ravel(), cv = k_folds, scoring= \"neg_mean_absolute_error\") * -1\n",
    "rf_r2 = cross_val_score(grid_search.best_estimator_, X, y.values.ravel(), cv = k_folds, scoring= \"r2\")\n",
    "rf_rmse = np.sqrt(cross_val_score(grid_search.best_estimator_, X, y.values.ravel(), cv = k_folds, scoring= \"neg_mean_squared_error\")*-1)"
   ]
  },
  {
   "cell_type": "code",
   "execution_count": 11,
   "id": "63ee245e-38d8-4e46-a641-d29f2b3ca9bb",
   "metadata": {},
   "outputs": [],
   "source": [
    "best_params_rf = grid_search.best_params_"
   ]
  },
  {
   "cell_type": "code",
   "execution_count": 12,
   "id": "a283e2c2-65ce-452c-9ffd-e6666af5d5cd",
   "metadata": {},
   "outputs": [],
   "source": [
    "#untuned cross validation\n",
    "default_rf = RandomForestRegressor(random_state=42)\n",
    "k_folds = KFold(n_splits = 5)\n",
    "\n",
    "untuned_mae_result = cross_val_score(default_rf, X, y.values.ravel(), cv = k_folds, scoring= \"neg_mean_absolute_error\")\n",
    "untuned_rmse_result = cross_val_score(default_rf, X, y.values.ravel(), cv = k_folds, scoring= \"neg_mean_squared_error\")\n",
    "untuned_r2_result = cross_val_score(default_rf, X, y.values.ravel(), cv = k_folds, scoring= \"r2\")"
   ]
  },
  {
   "cell_type": "code",
   "execution_count": 13,
   "id": "d83fbd64-72b4-4f9b-89f4-7454f87cd0a6",
   "metadata": {},
   "outputs": [
    {
     "data": {
      "text/plain": [
       "array([0.04561983, 0.02314171, 0.04039418, 0.01379276, 0.07062787])"
      ]
     },
     "execution_count": 13,
     "metadata": {},
     "output_type": "execute_result"
    }
   ],
   "source": [
    "untuned_r2_result"
   ]
  },
  {
   "cell_type": "code",
   "execution_count": 14,
   "id": "daf2cc46-9a2c-4602-ab48-fbf568a90ad2",
   "metadata": {},
   "outputs": [],
   "source": [
    "average_untuned_mae_rf = np.mean(untuned_mae_result) *-1\n",
    "average_untuned_rmse_rf = np.mean(np.sqrt(untuned_rmse_result*-1))\n",
    "average_untuned_r2_rf = np.mean(untuned_r2_result)\n"
   ]
  },
  {
   "cell_type": "code",
   "execution_count": 15,
   "id": "abe313ec-5baf-44b2-b6f4-e80f270a3108",
   "metadata": {},
   "outputs": [],
   "source": [
    "rf_results = {\n",
    "    \"Tunned\": {\"r2\": rf_r2, \"rmse\": rf_rmse, \"mae\": rf_mae},\n",
    "    \"Untunned\": {\"r2\": untuned_r2_result, \"rmse\": np.sqrt(untuned_rmse_result*-1), \"mae\": untuned_mae_result *-1}\n",
    "}"
   ]
  },
  {
   "cell_type": "code",
   "execution_count": 16,
   "id": "053ae9f6-fe25-46b2-b9f5-7228e23c05c3",
   "metadata": {
    "scrolled": true
   },
   "outputs": [
    {
     "data": {
      "text/plain": [
       "{'Tunned': {'r2': array([0.08419462, 0.04787442, 0.06787877, 0.05324719, 0.08192403]),\n",
       "  'rmse': array([26.3767415 , 26.05359897, 26.22547853, 26.49519856, 26.14862154]),\n",
       "  'mae': array([22.82389377, 22.45884579, 22.58295583, 22.70065342, 22.4351987 ])},\n",
       " 'Untunned': {'r2': array([0.04561983, 0.02314171, 0.04039418, 0.01379276, 0.07062787]),\n",
       "  'rmse': array([26.92652139, 26.38981774, 26.60931264, 27.04163656, 26.30899826]),\n",
       "  'mae': array([23.17481354, 22.4673364 , 22.72243676, 23.08597335, 22.41396023])}}"
      ]
     },
     "execution_count": 16,
     "metadata": {},
     "output_type": "execute_result"
    }
   ],
   "source": [
    "rf_results"
   ]
  },
  {
   "cell_type": "code",
   "execution_count": 17,
   "id": "6136b1db-aabb-4b6e-b3fe-c8b89d94900e",
   "metadata": {},
   "outputs": [],
   "source": [
    "def visualize(dataframe, model):\n",
    "    records = []\n",
    "    for category, metrics in dataframe.items():\n",
    "        for metric, values in metrics.items():\n",
    "            for value in values:\n",
    "                records.append([category, metric, value])\n",
    "\n",
    "    df = pd.DataFrame(records, columns=['Category', 'Metric', 'Value'])\n",
    "    sns.set(style=\"whitegrid\")\n",
    "\n",
    "    # Create subplots\n",
    "    fig, axes = plt.subplots(1, 3, figsize=(18, 6), sharey=False)\n",
    "\n",
    "    # Define y-limits for each metric\n",
    "    y_limits = {\n",
    "        'r2': (0, 0.2),\n",
    "        'rmse': (25, 28),\n",
    "        'mae': (20, 25)\n",
    "    }\n",
    "\n",
    "    # Plot each metric in a separate subplot\n",
    "    for ax, metric in zip(axes, y_limits.keys()):\n",
    "        sns.boxplot(x='Category', y='Value', data=df[df['Metric'] == metric], ax=ax)\n",
    "        ax.set_ylim(y_limits[metric])\n",
    "        ax.set_title(f'{model} Boxplot of {metric.upper()}')\n",
    "        ax.set_xlabel('Category')\n",
    "        ax.set_ylabel('Value')\n",
    "\n",
    "\n",
    "    # Adjust layout\n",
    "    plt.tight_layout()\n",
    "    plt.show()\n"
   ]
  },
  {
   "cell_type": "code",
   "execution_count": 18,
   "id": "0bcfbb2b-c02b-48cf-bbdb-61da5369473e",
   "metadata": {
    "scrolled": true
   },
   "outputs": [
    {
     "data": {
      "image/png": "[encoded data removed]",
      "text/plain": [
       "<Figure size 1800x600 with 3 Axes>"
      ]
     },
     "metadata": {},
     "output_type": "display_data"
    }
   ],
   "source": [
    "visualize(rf_results, \"Random Forest\")"
   ]
  },
  {
   "cell_type": "markdown",
   "id": "f5108972-b31e-47e8-8d65-cff839daeeb5",
   "metadata": {},
   "source": [
    "### Decision Tree\n"
   ]
  },
  {
   "cell_type": "code",
   "execution_count": 19,
   "id": "3eda5e58-1cfd-4c71-ac41-38eaee7581f6",
   "metadata": {},
   "outputs": [],
   "source": [
    "def get_rmse_errors_cv(X, y, dt, scorer, split=5):\n",
    "    k_folds = KFold(n_splits = split)\n",
    "    dt_model = dt\n",
    "    dt_scores = cross_val_score(dt_model, X, y.values.ravel(), cv = k_folds, scoring= \"neg_mean_squared_error\")\n",
    "    results = {\n",
    "        'Decision Tree': np.sqrt(dt_scores * -1),\n",
    "        }\n",
    "    results = pd.DataFrame(results)\n",
    "    return results\n",
    "\n",
    "def get_r2_errors_cv(X, y, dt, scorer, split=5):\n",
    "    k_folds = KFold(n_splits = split)\n",
    "    dt_model = dt\n",
    "    dt_scores = cross_val_score(dt_model, X, y.values.ravel(), cv = k_folds, scoring= \"r2\")\n",
    "    results = {\n",
    "        'Decision Tree': dt_scores * -1,\n",
    "        }\n",
    "    results = pd.DataFrame(results)\n",
    "    return results\n",
    "\n",
    "def get_mae_errors_cv(X, y, dt, scorer, split=5):\n",
    "    k_folds = KFold(n_splits = split)\n",
    "    dt_model = dt\n",
    "    dt_scores = cross_val_score(dt_model, X, y.values.ravel(), cv = k_folds, scoring= \"neg_mean_absolute_error\")\n",
    "    results = {\n",
    "        'Decision Tree': dt_scores * -1,\n",
    "        }\n",
    "    results = pd.DataFrame(results)\n",
    "    return results"
   ]
  },
  {
   "cell_type": "code",
   "execution_count": 20,
   "id": "42645194-71b7-4ef1-a0d3-132b410c7640",
   "metadata": {},
   "outputs": [
    {
     "name": "stdout",
     "output_type": "stream",
     "text": [
      "Fitting 5 folds for each of 50 candidates, totalling 250 fits\n"
     ]
    },
    {
     "data": {
      "text/plain": [
       "{'splitter': 'random',\n",
       " 'min_samples_split': 6,\n",
       " 'min_samples_leaf': 9,\n",
       " 'max_features': 0.7000000000000001,\n",
       " 'max_depth': 4,\n",
       " 'criterion': 'poisson'}"
      ]
     },
     "execution_count": 20,
     "metadata": {},
     "output_type": "execute_result"
    }
   ],
   "source": [
    "param_grid = {\n",
    "    'criterion': ['squared_error', 'friedman_mse', 'absolute_error', 'poisson'],\n",
    "    'splitter': ['best', 'random'],\n",
    "    'max_depth': [None] + list(np.arange(2, 20)),\n",
    "    'min_samples_split': np.arange(2, 10),\n",
    "    'min_samples_leaf': np.arange(1, 10),\n",
    "    'max_features': [None, 'auto', 'sqrt', 'log2'] + list(np.arange(0.1, 1.1, 0.1))\n",
    "}\n",
    "\n",
    "dt_model = RandomizedSearchCV(DecisionTreeRegressor()\n",
    "    ,param_distributions=param_grid,\n",
    "    n_iter=50,  # Number of parameter settings that are sampled\n",
    "    cv=5,       # Number of cross-validation folds\n",
    "    verbose=1,\n",
    "    random_state=42,\n",
    "    n_jobs=-1  )\n",
    "search_dt = dt_model.fit(X_train, y_train)\n",
    "search_dt.best_params_"
   ]
  },
  {
   "cell_type": "code",
   "execution_count": 21,
   "id": "0ba7b52f-4f1c-4f61-bd1b-d014d85b4443",
   "metadata": {},
   "outputs": [],
   "source": [
    "best_params_dt = search_dt.best_params_"
   ]
  },
  {
   "cell_type": "code",
   "execution_count": 22,
   "id": "05897eba-2f13-4129-8bb2-9981142131bc",
   "metadata": {},
   "outputs": [
    {
     "data": {
      "text/html": [
       "<style>#sk-container-id-1 {color: black;}#sk-container-id-1 pre{padding: 0;}#sk-container-id-1 div.sk-toggleable {background-color: white;}#sk-container-id-1 label.sk-toggleable__label {cursor: pointer;display: block;width: 100%;margin-bottom: 0;padding: 0.3em;box-sizing: border-box;text-align: center;}#sk-container-id-1 label.sk-toggleable__label-arrow:before {content: \"▸\";float: left;margin-right: 0.25em;color: #696969;}#sk-container-id-1 label.sk-toggleable__label-arrow:hover:before {color: black;}#sk-container-id-1 div.sk-estimator:hover label.sk-toggleable__label-arrow:before {color: black;}#sk-container-id-1 div.sk-toggleable__content {max-height: 0;max-width: 0;overflow: hidden;text-align: left;background-color: #f0f8ff;}#sk-container-id-1 div.sk-toggleable__content pre {margin: 0.2em;color: black;border-radius: 0.25em;background-color: #f0f8ff;}#sk-container-id-1 input.sk-toggleable__control:checked~div.sk-toggleable__content {max-height: 200px;max-width: 100%;overflow: auto;}#sk-container-id-1 input.sk-toggleable__control:checked~label.sk-toggleable__label-arrow:before {content: \"▾\";}#sk-container-id-1 div.sk-estimator input.sk-toggleable__control:checked~label.sk-toggleable__label {background-color: #d4ebff;}#sk-container-id-1 div.sk-label input.sk-toggleable__control:checked~label.sk-toggleable__label {background-color: #d4ebff;}#sk-container-id-1 input.sk-hidden--visually {border: 0;clip: rect(1px 1px 1px 1px);clip: rect(1px, 1px, 1px, 1px);height: 1px;margin: -1px;overflow: hidden;padding: 0;position: absolute;width: 1px;}#sk-container-id-1 div.sk-estimator {font-family: monospace;background-color: #f0f8ff;border: 1px dotted black;border-radius: 0.25em;box-sizing: border-box;margin-bottom: 0.5em;}#sk-container-id-1 div.sk-estimator:hover {background-color: #d4ebff;}#sk-container-id-1 div.sk-parallel-item::after {content: \"\";width: 100%;border-bottom: 1px solid gray;flex-grow: 1;}#sk-container-id-1 div.sk-label:hover label.sk-toggleable__label {background-color: #d4ebff;}#sk-container-id-1 div.sk-serial::before {content: \"\";position: absolute;border-left: 1px solid gray;box-sizing: border-box;top: 0;bottom: 0;left: 50%;z-index: 0;}#sk-container-id-1 div.sk-serial {display: flex;flex-direction: column;align-items: center;background-color: white;padding-right: 0.2em;padding-left: 0.2em;position: relative;}#sk-container-id-1 div.sk-item {position: relative;z-index: 1;}#sk-container-id-1 div.sk-parallel {display: flex;align-items: stretch;justify-content: center;background-color: white;position: relative;}#sk-container-id-1 div.sk-item::before, #sk-container-id-1 div.sk-parallel-item::before {content: \"\";position: absolute;border-left: 1px solid gray;box-sizing: border-box;top: 0;bottom: 0;left: 50%;z-index: -1;}#sk-container-id-1 div.sk-parallel-item {display: flex;flex-direction: column;z-index: 1;position: relative;background-color: white;}#sk-container-id-1 div.sk-parallel-item:first-child::after {align-self: flex-end;width: 50%;}#sk-container-id-1 div.sk-parallel-item:last-child::after {align-self: flex-start;width: 50%;}#sk-container-id-1 div.sk-parallel-item:only-child::after {width: 0;}#sk-container-id-1 div.sk-dashed-wrapped {border: 1px dashed gray;margin: 0 0.4em 0.5em 0.4em;box-sizing: border-box;padding-bottom: 0.4em;background-color: white;}#sk-container-id-1 div.sk-label label {font-family: monospace;font-weight: bold;display: inline-block;line-height: 1.2em;}#sk-container-id-1 div.sk-label-container {text-align: center;}#sk-container-id-1 div.sk-container {/* jupyter's `normalize.less` sets `[hidden] { display: none; }` but bootstrap.min.css set `[hidden] { display: none !important; }` so we also need the `!important` here to be able to override the default hidden behavior on the sphinx rendered scikit-learn.org. See: https://github.com/scikit-learn/scikit-learn/issues/21755 */display: inline-block !important;position: relative;}#sk-container-id-1 div.sk-text-repr-fallback {display: none;}</style><div id=\"sk-container-id-1\" class=\"sk-top-container\"><div class=\"sk-text-repr-fallback\"><pre>DecisionTreeRegressor(criterion=&#x27;poisson&#x27;, max_depth=4,\n",
       "                      max_features=0.7000000000000001, min_samples_leaf=9,\n",
       "                      min_samples_split=6, splitter=&#x27;random&#x27;)</pre><b>In a Jupyter environment, please rerun this cell to show the HTML representation or trust the notebook. <br />On GitHub, the HTML representation is unable to render, please try loading this page with nbviewer.org.</b></div><div class=\"sk-container\" hidden><div class=\"sk-item\"><div class=\"sk-estimator sk-toggleable\"><input class=\"sk-toggleable__control sk-hidden--visually\" id=\"sk-estimator-id-1\" type=\"checkbox\" checked><label for=\"sk-estimator-id-1\" class=\"sk-toggleable__label sk-toggleable__label-arrow\">DecisionTreeRegressor</label><div class=\"sk-toggleable__content\"><pre>DecisionTreeRegressor(criterion=&#x27;poisson&#x27;, max_depth=4,\n",
       "                      max_features=0.7000000000000001, min_samples_leaf=9,\n",
       "                      min_samples_split=6, splitter=&#x27;random&#x27;)</pre></div></div></div></div></div>"
      ],
      "text/plain": [
       "DecisionTreeRegressor(criterion='poisson', max_depth=4,\n",
       "                      max_features=0.7000000000000001, min_samples_leaf=9,\n",
       "                      min_samples_split=6, splitter='random')"
      ]
     },
     "execution_count": 22,
     "metadata": {},
     "output_type": "execute_result"
    }
   ],
   "source": [
    "dt = DecisionTreeRegressor()\n",
    "dt.set_params(**search_dt.best_params_)"
   ]
  },
  {
   "cell_type": "code",
   "execution_count": 23,
   "id": "0162d689-7824-4ac4-bd3e-bb6be43a74a7",
   "metadata": {
    "scrolled": true
   },
   "outputs": [
    {
     "name": "stdout",
     "output_type": "stream",
     "text": [
      "   Decision Tree\n",
      "0      -0.044856\n",
      "1       0.002458\n",
      "2      -0.038444\n",
      "3      -0.021571\n",
      "4      -0.044731\n"
     ]
    }
   ],
   "source": [
    "r2_results = get_r2_errors_cv(X, y, dt, \"r2\", split=5)\n",
    "print(r2_results)"
   ]
  },
  {
   "cell_type": "code",
   "execution_count": 24,
   "id": "ecff4cb1-3b8c-42db-917f-c64b8fe8c9fa",
   "metadata": {},
   "outputs": [
    {
     "data": {
      "text/html": [
       "<div>\n",
       "<style scoped>\n",
       "    .dataframe tbody tr th:only-of-type {\n",
       "        vertical-align: middle;\n",
       "    }\n",
       "\n",
       "    .dataframe tbody tr th {\n",
       "        vertical-align: top;\n",
       "    }\n",
       "\n",
       "    .dataframe thead th {\n",
       "        text-align: right;\n",
       "    }\n",
       "</style>\n",
       "<table border=\"1\" class=\"dataframe\">\n",
       "  <thead>\n",
       "    <tr style=\"text-align: right;\">\n",
       "      <th></th>\n",
       "      <th>Decision Tree</th>\n",
       "    </tr>\n",
       "  </thead>\n",
       "  <tbody>\n",
       "    <tr>\n",
       "      <th>0</th>\n",
       "      <td>-0.044856</td>\n",
       "    </tr>\n",
       "    <tr>\n",
       "      <th>1</th>\n",
       "      <td>0.002458</td>\n",
       "    </tr>\n",
       "    <tr>\n",
       "      <th>2</th>\n",
       "      <td>-0.038444</td>\n",
       "    </tr>\n",
       "    <tr>\n",
       "      <th>3</th>\n",
       "      <td>-0.021571</td>\n",
       "    </tr>\n",
       "    <tr>\n",
       "      <th>4</th>\n",
       "      <td>-0.044731</td>\n",
       "    </tr>\n",
       "  </tbody>\n",
       "</table>\n",
       "</div>"
      ],
      "text/plain": [
       "   Decision Tree\n",
       "0      -0.044856\n",
       "1       0.002458\n",
       "2      -0.038444\n",
       "3      -0.021571\n",
       "4      -0.044731"
      ]
     },
     "execution_count": 24,
     "metadata": {},
     "output_type": "execute_result"
    }
   ],
   "source": [
    "r2_results"
   ]
  },
  {
   "cell_type": "code",
   "execution_count": 25,
   "id": "bf20f0b9-22f1-4ddc-a89c-1c1e21808019",
   "metadata": {},
   "outputs": [
    {
     "data": {
      "text/plain": [
       "-0.0294289188758859"
      ]
     },
     "execution_count": 25,
     "metadata": {},
     "output_type": "execute_result"
    }
   ],
   "source": [
    "average_r2_dt = np.mean(r2_results.values.flatten())\n",
    "average_r2_dt"
   ]
  },
  {
   "cell_type": "code",
   "execution_count": 26,
   "id": "37cebd8e-7194-4b44-a8f9-a871b4b2f869",
   "metadata": {},
   "outputs": [
    {
     "name": "stdout",
     "output_type": "stream",
     "text": [
      "   Decision Tree\n",
      "0      23.860701\n",
      "1      22.962189\n",
      "2      23.360098\n",
      "3      23.353018\n",
      "4      22.830951\n"
     ]
    }
   ],
   "source": [
    "mae_results = get_mae_errors_cv(X, y, dt, \"neg_mean_absolute_error\")\n",
    "print(mae_results)"
   ]
  },
  {
   "cell_type": "code",
   "execution_count": 27,
   "id": "82fddaca-3261-49f2-bf05-d8efde78adbc",
   "metadata": {},
   "outputs": [
    {
     "data": {
      "text/plain": [
       "23.273391324308463"
      ]
     },
     "execution_count": 27,
     "metadata": {},
     "output_type": "execute_result"
    }
   ],
   "source": [
    "average_mae_dt = np.mean(mae_results.values.flatten())\n",
    "average_mae_dt"
   ]
  },
  {
   "cell_type": "code",
   "execution_count": 28,
   "id": "be2e7b4a-276a-41f8-bf43-cea91e3ac6ec",
   "metadata": {},
   "outputs": [
    {
     "name": "stdout",
     "output_type": "stream",
     "text": [
      "   Decision Tree\n",
      "0      26.889063\n",
      "1      26.675119\n",
      "2      26.618573\n",
      "3      26.649842\n",
      "4      26.455416\n"
     ]
    }
   ],
   "source": [
    "rmse_results = get_rmse_errors_cv(X, y, dt, \"neg_mean_squared_error\", split=5)\n",
    "print(rmse_results)"
   ]
  },
  {
   "cell_type": "code",
   "execution_count": 29,
   "id": "577805ea-d14a-457e-b30d-eabf52c8d1c0",
   "metadata": {},
   "outputs": [
    {
     "data": {
      "text/plain": [
       "26.657602765566686"
      ]
     },
     "execution_count": 29,
     "metadata": {},
     "output_type": "execute_result"
    }
   ],
   "source": [
    "average_rmse_dt = np.mean(rmse_results.values.flatten())\n",
    "average_rmse_dt"
   ]
  },
  {
   "cell_type": "code",
   "execution_count": 30,
   "id": "b2dcc11e-d324-43e5-bf77-90d251de7a7b",
   "metadata": {},
   "outputs": [],
   "source": [
    "#untuned decision tree\n",
    "default_dt = DecisionTreeRegressor(random_state=42)\n",
    "k_folds = KFold(n_splits = 5)\n",
    "\n",
    "untuned_mae_result_dt = cross_val_score(default_dt, X, y.values.ravel(), cv = k_folds, scoring= \"neg_mean_absolute_error\")\n",
    "untuned_rmse_result_dt = cross_val_score(default_dt, X, y.values.ravel(), cv = k_folds, scoring= \"neg_mean_squared_error\")\n",
    "untuned_r2_result_dt = cross_val_score(default_dt, X, y.values.ravel(), cv = k_folds, scoring= \"r2\")\n",
    "\n"
   ]
  },
  {
   "cell_type": "code",
   "execution_count": 31,
   "id": "a8cd99b5-1f44-4988-9a9e-973ebbcf01df",
   "metadata": {},
   "outputs": [],
   "source": [
    "average_untuned_mae_dt = np.mean(untuned_mae_result_dt) *-1\n",
    "average_untuned_rmse_dt = np.mean(np.sqrt(untuned_rmse_result_dt*-1))\n",
    "average_untuned_r2_dt = np.mean(untuned_r2_result_dt)\n"
   ]
  },
  {
   "cell_type": "code",
   "execution_count": 32,
   "id": "23b3e93f-0628-4983-9797-dc82cf48beff",
   "metadata": {},
   "outputs": [],
   "source": [
    "dt_results = {\n",
    "    \"Tunned\": {\"r2\": r2_results.to_numpy().flatten(), \"rmse\": rmse_results.to_numpy().flatten(), \"mae\": mae_results.to_numpy().flatten()},\n",
    "    \"Untunned\": {\"r2\": untuned_r2_result_dt, \"rmse\": np.sqrt(untuned_rmse_result_dt*-1), \"mae\": untuned_mae_result_dt *-1}\n",
    "}\n"
   ]
  },
  {
   "cell_type": "code",
   "execution_count": 33,
   "id": "b25657f2-3d72-4272-ab41-1ec926ddcebc",
   "metadata": {},
   "outputs": [
    {
     "data": {
      "text/plain": [
       "{'Tunned': {'r2': array([-0.04485562,  0.00245784, -0.03844393, -0.02157139, -0.04473149]),\n",
       "  'rmse': array([26.88906337, 26.67511868, 26.61857349, 26.64984205, 26.45541623]),\n",
       "  'mae': array([23.86070106, 22.96218869, 23.36009757, 23.35301847, 22.83095084])},\n",
       " 'Untunned': {'r2': array([-0.7402286 , -0.91210873, -0.94767577, -0.79706758, -0.80139248]),\n",
       "  'rmse': array([36.35990155, 36.92129288, 37.90928132, 36.50321217, 36.62803862]),\n",
       "  'mae': array([29.35812774, 30.03060712, 30.76595065, 29.79551465, 29.69075937])}}"
      ]
     },
     "execution_count": 33,
     "metadata": {},
     "output_type": "execute_result"
    }
   ],
   "source": [
    "dt_results"
   ]
  },
  {
   "cell_type": "code",
   "execution_count": 34,
   "id": "375e07ab-fcd6-4aa8-9dad-8e1ee42ece85",
   "metadata": {},
   "outputs": [
    {
     "data": {
      "image/png": "[encoded data removed]",
      "text/plain": [
       "<Figure size 1800x600 with 3 Axes>"
      ]
     },
     "metadata": {},
     "output_type": "display_data"
    }
   ],
   "source": [
    "visualize(dt_results, \"Decision Tree\")"
   ]
  },
  {
   "cell_type": "markdown",
   "id": "5d2015da-0940-4d70-be58-4d8e07494b02",
   "metadata": {},
   "source": [
    "### Xgboost"
   ]
  },
  {
   "cell_type": "code",
   "execution_count": 35,
   "id": "c9db1333-9213-4c14-acde-a645d7126ce7",
   "metadata": {},
   "outputs": [
    {
     "data": {
      "text/html": [
       "<style>#sk-container-id-2 {color: black;}#sk-container-id-2 pre{padding: 0;}#sk-container-id-2 div.sk-toggleable {background-color: white;}#sk-container-id-2 label.sk-toggleable__label {cursor: pointer;display: block;width: 100%;margin-bottom: 0;padding: 0.3em;box-sizing: border-box;text-align: center;}#sk-container-id-2 label.sk-toggleable__label-arrow:before {content: \"▸\";float: left;margin-right: 0.25em;color: #696969;}#sk-container-id-2 label.sk-toggleable__label-arrow:hover:before {color: black;}#sk-container-id-2 div.sk-estimator:hover label.sk-toggleable__label-arrow:before {color: black;}#sk-container-id-2 div.sk-toggleable__content {max-height: 0;max-width: 0;overflow: hidden;text-align: left;background-color: #f0f8ff;}#sk-container-id-2 div.sk-toggleable__content pre {margin: 0.2em;color: black;border-radius: 0.25em;background-color: #f0f8ff;}#sk-container-id-2 input.sk-toggleable__control:checked~div.sk-toggleable__content {max-height: 200px;max-width: 100%;overflow: auto;}#sk-container-id-2 input.sk-toggleable__control:checked~label.sk-toggleable__label-arrow:before {content: \"▾\";}#sk-container-id-2 div.sk-estimator input.sk-toggleable__control:checked~label.sk-toggleable__label {background-color: #d4ebff;}#sk-container-id-2 div.sk-label input.sk-toggleable__control:checked~label.sk-toggleable__label {background-color: #d4ebff;}#sk-container-id-2 input.sk-hidden--visually {border: 0;clip: rect(1px 1px 1px 1px);clip: rect(1px, 1px, 1px, 1px);height: 1px;margin: -1px;overflow: hidden;padding: 0;position: absolute;width: 1px;}#sk-container-id-2 div.sk-estimator {font-family: monospace;background-color: #f0f8ff;border: 1px dotted black;border-radius: 0.25em;box-sizing: border-box;margin-bottom: 0.5em;}#sk-container-id-2 div.sk-estimator:hover {background-color: #d4ebff;}#sk-container-id-2 div.sk-parallel-item::after {content: \"\";width: 100%;border-bottom: 1px solid gray;flex-grow: 1;}#sk-container-id-2 div.sk-label:hover label.sk-toggleable__label {background-color: #d4ebff;}#sk-container-id-2 div.sk-serial::before {content: \"\";position: absolute;border-left: 1px solid gray;box-sizing: border-box;top: 0;bottom: 0;left: 50%;z-index: 0;}#sk-container-id-2 div.sk-serial {display: flex;flex-direction: column;align-items: center;background-color: white;padding-right: 0.2em;padding-left: 0.2em;position: relative;}#sk-container-id-2 div.sk-item {position: relative;z-index: 1;}#sk-container-id-2 div.sk-parallel {display: flex;align-items: stretch;justify-content: center;background-color: white;position: relative;}#sk-container-id-2 div.sk-item::before, #sk-container-id-2 div.sk-parallel-item::before {content: \"\";position: absolute;border-left: 1px solid gray;box-sizing: border-box;top: 0;bottom: 0;left: 50%;z-index: -1;}#sk-container-id-2 div.sk-parallel-item {display: flex;flex-direction: column;z-index: 1;position: relative;background-color: white;}#sk-container-id-2 div.sk-parallel-item:first-child::after {align-self: flex-end;width: 50%;}#sk-container-id-2 div.sk-parallel-item:last-child::after {align-self: flex-start;width: 50%;}#sk-container-id-2 div.sk-parallel-item:only-child::after {width: 0;}#sk-container-id-2 div.sk-dashed-wrapped {border: 1px dashed gray;margin: 0 0.4em 0.5em 0.4em;box-sizing: border-box;padding-bottom: 0.4em;background-color: white;}#sk-container-id-2 div.sk-label label {font-family: monospace;font-weight: bold;display: inline-block;line-height: 1.2em;}#sk-container-id-2 div.sk-label-container {text-align: center;}#sk-container-id-2 div.sk-container {/* jupyter's `normalize.less` sets `[hidden] { display: none; }` but bootstrap.min.css set `[hidden] { display: none !important; }` so we also need the `!important` here to be able to override the default hidden behavior on the sphinx rendered scikit-learn.org. See: https://github.com/scikit-learn/scikit-learn/issues/21755 */display: inline-block !important;position: relative;}#sk-container-id-2 div.sk-text-repr-fallback {display: none;}</style><div id=\"sk-container-id-2\" class=\"sk-top-container\"><div class=\"sk-text-repr-fallback\"><pre>XGBRegressor(base_score=None, booster=None, callbacks=None,\n",
       "             colsample_bylevel=None, colsample_bynode=None,\n",
       "             colsample_bytree=None, device=None, early_stopping_rounds=None,\n",
       "             enable_categorical=False, eval_metric=None, feature_types=None,\n",
       "             gamma=None, grow_policy=None, importance_type=None,\n",
       "             interaction_constraints=None, learning_rate=0.001, max_bin=None,\n",
       "             max_cat_threshold=None, max_cat_to_onehot=None,\n",
       "             max_delta_step=None, max_depth=None, max_leaves=None,\n",
       "             min_child_weight=None, missing=nan, monotone_constraints=None,\n",
       "             multi_strategy=None, n_estimators=200, n_jobs=None,\n",
       "             num_parallel_tree=None, random_state=None, ...)</pre><b>In a Jupyter environment, please rerun this cell to show the HTML representation or trust the notebook. <br />On GitHub, the HTML representation is unable to render, please try loading this page with nbviewer.org.</b></div><div class=\"sk-container\" hidden><div class=\"sk-item\"><div class=\"sk-estimator sk-toggleable\"><input class=\"sk-toggleable__control sk-hidden--visually\" id=\"sk-estimator-id-2\" type=\"checkbox\" checked><label for=\"sk-estimator-id-2\" class=\"sk-toggleable__label sk-toggleable__label-arrow\">XGBRegressor</label><div class=\"sk-toggleable__content\"><pre>XGBRegressor(base_score=None, booster=None, callbacks=None,\n",
       "             colsample_bylevel=None, colsample_bynode=None,\n",
       "             colsample_bytree=None, device=None, early_stopping_rounds=None,\n",
       "             enable_categorical=False, eval_metric=None, feature_types=None,\n",
       "             gamma=None, grow_policy=None, importance_type=None,\n",
       "             interaction_constraints=None, learning_rate=0.001, max_bin=None,\n",
       "             max_cat_threshold=None, max_cat_to_onehot=None,\n",
       "             max_delta_step=None, max_depth=None, max_leaves=None,\n",
       "             min_child_weight=None, missing=nan, monotone_constraints=None,\n",
       "             multi_strategy=None, n_estimators=200, n_jobs=None,\n",
       "             num_parallel_tree=None, random_state=None, ...)</pre></div></div></div></div></div>"
      ],
      "text/plain": [
       "XGBRegressor(base_score=None, booster=None, callbacks=None,\n",
       "             colsample_bylevel=None, colsample_bynode=None,\n",
       "             colsample_bytree=None, device=None, early_stopping_rounds=None,\n",
       "             enable_categorical=False, eval_metric=None, feature_types=None,\n",
       "             gamma=None, grow_policy=None, importance_type=None,\n",
       "             interaction_constraints=None, learning_rate=0.001, max_bin=None,\n",
       "             max_cat_threshold=None, max_cat_to_onehot=None,\n",
       "             max_delta_step=None, max_depth=None, max_leaves=None,\n",
       "             min_child_weight=None, missing=nan, monotone_constraints=None,\n",
       "             multi_strategy=None, n_estimators=200, n_jobs=None,\n",
       "             num_parallel_tree=None, random_state=None, ...)"
      ]
     },
     "execution_count": 35,
     "metadata": {},
     "output_type": "execute_result"
    }
   ],
   "source": [
    "untunned_xgb_model = XGBRegressor(n_estimators = 200, learning_rate = 0.001)\n",
    "untunned_xgb_model.fit(X_train, y_train)"
   ]
  },
  {
   "cell_type": "code",
   "execution_count": 36,
   "id": "14c765e9-747b-4004-bd5e-b27f6ea163ab",
   "metadata": {},
   "outputs": [],
   "source": [
    "kfold = KFold(n_splits=5)\n",
    "untunned_r2_results_xgb = cross_val_score(untunned_xgb_model, X, y, cv=kfold, scoring = 'r2')\n",
    "untunned_rmse_results_xgb = np.sqrt(cross_val_score(untunned_xgb_model, X, y, cv=kfold, scoring = 'neg_mean_squared_error')*-1)\n",
    "untunned_mae_results_xgb = cross_val_score(untunned_xgb_model, X, y, cv=kfold, scoring = 'neg_mean_absolute_error')*-1"
   ]
  },
  {
   "cell_type": "code",
   "execution_count": 37,
   "id": "ae460e9c-934e-4c7e-9ee9-80f3b870fb0d",
   "metadata": {},
   "outputs": [],
   "source": [
    "untunned_pred = untunned_xgb_model.predict(X_test)"
   ]
  },
  {
   "cell_type": "code",
   "execution_count": 38,
   "id": "74c227e6-f319-4408-a10d-a35700d91be4",
   "metadata": {},
   "outputs": [
    {
     "name": "stdout",
     "output_type": "stream",
     "text": [
      "RMSE :  27.287323\n"
     ]
    }
   ],
   "source": [
    "untunned_xgb_rmse = np.sqrt(mean_squared_error(y_test, untunned_pred))\n",
    "print(\"RMSE : % f\" %(untunned_xgb_rmse))"
   ]
  },
  {
   "cell_type": "code",
   "execution_count": 39,
   "id": "db26b282-2b25-4782-a4a0-c29f119d4a04",
   "metadata": {},
   "outputs": [
    {
     "name": "stdout",
     "output_type": "stream",
     "text": [
      "mean absolute score: 23.794327160749276\n"
     ]
    }
   ],
   "source": [
    "untunned_xgb_mae = mean_absolute_error(y_test, untunned_pred)\n",
    "print('mean absolute score:', untunned_xgb_mae)"
   ]
  },
  {
   "cell_type": "code",
   "execution_count": 40,
   "id": "1a529e3c-9197-40a4-9d04-c6797aadd8c7",
   "metadata": {},
   "outputs": [
    {
     "name": "stdout",
     "output_type": "stream",
     "text": [
      "r2 score: 0.019712910260079375\n"
     ]
    }
   ],
   "source": [
    "untunned_xgb_r2 = r2_score(y_test, untunned_pred)\n",
    "print('r2 score:',untunned_xgb_r2)"
   ]
  },
  {
   "cell_type": "code",
   "execution_count": 41,
   "id": "d92c9e5b-337b-44e8-aaf4-78f0946f3941",
   "metadata": {},
   "outputs": [
    {
     "name": "stdout",
     "output_type": "stream",
     "text": [
      "Fitting 5 folds for each of 50 candidates, totalling 250 fits\n"
     ]
    },
    {
     "data": {
      "text/html": [
       "<style>#sk-container-id-3 {color: black;}#sk-container-id-3 pre{padding: 0;}#sk-container-id-3 div.sk-toggleable {background-color: white;}#sk-container-id-3 label.sk-toggleable__label {cursor: pointer;display: block;width: 100%;margin-bottom: 0;padding: 0.3em;box-sizing: border-box;text-align: center;}#sk-container-id-3 label.sk-toggleable__label-arrow:before {content: \"▸\";float: left;margin-right: 0.25em;color: #696969;}#sk-container-id-3 label.sk-toggleable__label-arrow:hover:before {color: black;}#sk-container-id-3 div.sk-estimator:hover label.sk-toggleable__label-arrow:before {color: black;}#sk-container-id-3 div.sk-toggleable__content {max-height: 0;max-width: 0;overflow: hidden;text-align: left;background-color: #f0f8ff;}#sk-container-id-3 div.sk-toggleable__content pre {margin: 0.2em;color: black;border-radius: 0.25em;background-color: #f0f8ff;}#sk-container-id-3 input.sk-toggleable__control:checked~div.sk-toggleable__content {max-height: 200px;max-width: 100%;overflow: auto;}#sk-container-id-3 input.sk-toggleable__control:checked~label.sk-toggleable__label-arrow:before {content: \"▾\";}#sk-container-id-3 div.sk-estimator input.sk-toggleable__control:checked~label.sk-toggleable__label {background-color: #d4ebff;}#sk-container-id-3 div.sk-label input.sk-toggleable__control:checked~label.sk-toggleable__label {background-color: #d4ebff;}#sk-container-id-3 input.sk-hidden--visually {border: 0;clip: rect(1px 1px 1px 1px);clip: rect(1px, 1px, 1px, 1px);height: 1px;margin: -1px;overflow: hidden;padding: 0;position: absolute;width: 1px;}#sk-container-id-3 div.sk-estimator {font-family: monospace;background-color: #f0f8ff;border: 1px dotted black;border-radius: 0.25em;box-sizing: border-box;margin-bottom: 0.5em;}#sk-container-id-3 div.sk-estimator:hover {background-color: #d4ebff;}#sk-container-id-3 div.sk-parallel-item::after {content: \"\";width: 100%;border-bottom: 1px solid gray;flex-grow: 1;}#sk-container-id-3 div.sk-label:hover label.sk-toggleable__label {background-color: #d4ebff;}#sk-container-id-3 div.sk-serial::before {content: \"\";position: absolute;border-left: 1px solid gray;box-sizing: border-box;top: 0;bottom: 0;left: 50%;z-index: 0;}#sk-container-id-3 div.sk-serial {display: flex;flex-direction: column;align-items: center;background-color: white;padding-right: 0.2em;padding-left: 0.2em;position: relative;}#sk-container-id-3 div.sk-item {position: relative;z-index: 1;}#sk-container-id-3 div.sk-parallel {display: flex;align-items: stretch;justify-content: center;background-color: white;position: relative;}#sk-container-id-3 div.sk-item::before, #sk-container-id-3 div.sk-parallel-item::before {content: \"\";position: absolute;border-left: 1px solid gray;box-sizing: border-box;top: 0;bottom: 0;left: 50%;z-index: -1;}#sk-container-id-3 div.sk-parallel-item {display: flex;flex-direction: column;z-index: 1;position: relative;background-color: white;}#sk-container-id-3 div.sk-parallel-item:first-child::after {align-self: flex-end;width: 50%;}#sk-container-id-3 div.sk-parallel-item:last-child::after {align-self: flex-start;width: 50%;}#sk-container-id-3 div.sk-parallel-item:only-child::after {width: 0;}#sk-container-id-3 div.sk-dashed-wrapped {border: 1px dashed gray;margin: 0 0.4em 0.5em 0.4em;box-sizing: border-box;padding-bottom: 0.4em;background-color: white;}#sk-container-id-3 div.sk-label label {font-family: monospace;font-weight: bold;display: inline-block;line-height: 1.2em;}#sk-container-id-3 div.sk-label-container {text-align: center;}#sk-container-id-3 div.sk-container {/* jupyter's `normalize.less` sets `[hidden] { display: none; }` but bootstrap.min.css set `[hidden] { display: none !important; }` so we also need the `!important` here to be able to override the default hidden behavior on the sphinx rendered scikit-learn.org. See: https://github.com/scikit-learn/scikit-learn/issues/21755 */display: inline-block !important;position: relative;}#sk-container-id-3 div.sk-text-repr-fallback {display: none;}</style><div id=\"sk-container-id-3\" class=\"sk-top-container\"><div class=\"sk-text-repr-fallback\"><pre>RandomizedSearchCV(cv=5,\n",
       "                   estimator=XGBRegressor(base_score=None, booster=None,\n",
       "                                          callbacks=None,\n",
       "                                          colsample_bylevel=None,\n",
       "                                          colsample_bynode=None,\n",
       "                                          colsample_bytree=None, device=None,\n",
       "                                          early_stopping_rounds=None,\n",
       "                                          enable_categorical=False,\n",
       "                                          eval_metric=None, feature_types=None,\n",
       "                                          gamma=None, grow_policy=None,\n",
       "                                          importance_type=None,\n",
       "                                          interaction_constraints=None,\n",
       "                                          learning_rate=...\n",
       "                   n_iter=50, n_jobs=-1,\n",
       "                   param_distributions={&#x27;colsample_bytree&#x27;: [0.6, 0.7, 0.8, 0.9,\n",
       "                                                             1.0],\n",
       "                                        &#x27;gamma&#x27;: [0, 0.1, 0.2, 0.3, 0.4],\n",
       "                                        &#x27;learning_rate&#x27;: [0.001, 0.01, 0.05,\n",
       "                                                          0.1, 0.2],\n",
       "                                        &#x27;max_depth&#x27;: [3, 4, 5, 6, 7],\n",
       "                                        &#x27;n_estimators&#x27;: [100, 200, 300, 400,\n",
       "                                                         500],\n",
       "                                        &#x27;reg_alpha&#x27;: [0, 0.1, 0.2, 0.3, 0.4],\n",
       "                                        &#x27;reg_lambda&#x27;: [0, 0.1, 0.2, 0.3, 0.4],\n",
       "                                        &#x27;subsample&#x27;: [0.6, 0.7, 0.8, 0.9, 1.0]},\n",
       "                   random_state=42, scoring=&#x27;r2&#x27;, verbose=1)</pre><b>In a Jupyter environment, please rerun this cell to show the HTML representation or trust the notebook. <br />On GitHub, the HTML representation is unable to render, please try loading this page with nbviewer.org.</b></div><div class=\"sk-container\" hidden><div class=\"sk-item sk-dashed-wrapped\"><div class=\"sk-label-container\"><div class=\"sk-label sk-toggleable\"><input class=\"sk-toggleable__control sk-hidden--visually\" id=\"sk-estimator-id-3\" type=\"checkbox\" ><label for=\"sk-estimator-id-3\" class=\"sk-toggleable__label sk-toggleable__label-arrow\">RandomizedSearchCV</label><div class=\"sk-toggleable__content\"><pre>RandomizedSearchCV(cv=5,\n",
       "                   estimator=XGBRegressor(base_score=None, booster=None,\n",
       "                                          callbacks=None,\n",
       "                                          colsample_bylevel=None,\n",
       "                                          colsample_bynode=None,\n",
       "                                          colsample_bytree=None, device=None,\n",
       "                                          early_stopping_rounds=None,\n",
       "                                          enable_categorical=False,\n",
       "                                          eval_metric=None, feature_types=None,\n",
       "                                          gamma=None, grow_policy=None,\n",
       "                                          importance_type=None,\n",
       "                                          interaction_constraints=None,\n",
       "                                          learning_rate=...\n",
       "                   n_iter=50, n_jobs=-1,\n",
       "                   param_distributions={&#x27;colsample_bytree&#x27;: [0.6, 0.7, 0.8, 0.9,\n",
       "                                                             1.0],\n",
       "                                        &#x27;gamma&#x27;: [0, 0.1, 0.2, 0.3, 0.4],\n",
       "                                        &#x27;learning_rate&#x27;: [0.001, 0.01, 0.05,\n",
       "                                                          0.1, 0.2],\n",
       "                                        &#x27;max_depth&#x27;: [3, 4, 5, 6, 7],\n",
       "                                        &#x27;n_estimators&#x27;: [100, 200, 300, 400,\n",
       "                                                         500],\n",
       "                                        &#x27;reg_alpha&#x27;: [0, 0.1, 0.2, 0.3, 0.4],\n",
       "                                        &#x27;reg_lambda&#x27;: [0, 0.1, 0.2, 0.3, 0.4],\n",
       "                                        &#x27;subsample&#x27;: [0.6, 0.7, 0.8, 0.9, 1.0]},\n",
       "                   random_state=42, scoring=&#x27;r2&#x27;, verbose=1)</pre></div></div></div><div class=\"sk-parallel\"><div class=\"sk-parallel-item\"><div class=\"sk-item\"><div class=\"sk-label-container\"><div class=\"sk-label sk-toggleable\"><input class=\"sk-toggleable__control sk-hidden--visually\" id=\"sk-estimator-id-4\" type=\"checkbox\" ><label for=\"sk-estimator-id-4\" class=\"sk-toggleable__label sk-toggleable__label-arrow\">estimator: XGBRegressor</label><div class=\"sk-toggleable__content\"><pre>XGBRegressor(base_score=None, booster=None, callbacks=None,\n",
       "             colsample_bylevel=None, colsample_bynode=None,\n",
       "             colsample_bytree=None, device=None, early_stopping_rounds=None,\n",
       "             enable_categorical=False, eval_metric=None, feature_types=None,\n",
       "             gamma=None, grow_policy=None, importance_type=None,\n",
       "             interaction_constraints=None, learning_rate=None, max_bin=None,\n",
       "             max_cat_threshold=None, max_cat_to_onehot=None,\n",
       "             max_delta_step=None, max_depth=None, max_leaves=None,\n",
       "             min_child_weight=None, missing=nan, monotone_constraints=None,\n",
       "             multi_strategy=None, n_estimators=None, n_jobs=None,\n",
       "             num_parallel_tree=None, random_state=None, ...)</pre></div></div></div><div class=\"sk-serial\"><div class=\"sk-item\"><div class=\"sk-estimator sk-toggleable\"><input class=\"sk-toggleable__control sk-hidden--visually\" id=\"sk-estimator-id-5\" type=\"checkbox\" ><label for=\"sk-estimator-id-5\" class=\"sk-toggleable__label sk-toggleable__label-arrow\">XGBRegressor</label><div class=\"sk-toggleable__content\"><pre>XGBRegressor(base_score=None, booster=None, callbacks=None,\n",
       "             colsample_bylevel=None, colsample_bynode=None,\n",
       "             colsample_bytree=None, device=None, early_stopping_rounds=None,\n",
       "             enable_categorical=False, eval_metric=None, feature_types=None,\n",
       "             gamma=None, grow_policy=None, importance_type=None,\n",
       "             interaction_constraints=None, learning_rate=None, max_bin=None,\n",
       "             max_cat_threshold=None, max_cat_to_onehot=None,\n",
       "             max_delta_step=None, max_depth=None, max_leaves=None,\n",
       "             min_child_weight=None, missing=nan, monotone_constraints=None,\n",
       "             multi_strategy=None, n_estimators=None, n_jobs=None,\n",
       "             num_parallel_tree=None, random_state=None, ...)</pre></div></div></div></div></div></div></div></div></div></div>"
      ],
      "text/plain": [
       "RandomizedSearchCV(cv=5,\n",
       "                   estimator=XGBRegressor(base_score=None, booster=None,\n",
       "                                          callbacks=None,\n",
       "                                          colsample_bylevel=None,\n",
       "                                          colsample_bynode=None,\n",
       "                                          colsample_bytree=None, device=None,\n",
       "                                          early_stopping_rounds=None,\n",
       "                                          enable_categorical=False,\n",
       "                                          eval_metric=None, feature_types=None,\n",
       "                                          gamma=None, grow_policy=None,\n",
       "                                          importance_type=None,\n",
       "                                          interaction_constraints=None,\n",
       "                                          learning_rate=...\n",
       "                   n_iter=50, n_jobs=-1,\n",
       "                   param_distributions={'colsample_bytree': [0.6, 0.7, 0.8, 0.9,\n",
       "                                                             1.0],\n",
       "                                        'gamma': [0, 0.1, 0.2, 0.3, 0.4],\n",
       "                                        'learning_rate': [0.001, 0.01, 0.05,\n",
       "                                                          0.1, 0.2],\n",
       "                                        'max_depth': [3, 4, 5, 6, 7],\n",
       "                                        'n_estimators': [100, 200, 300, 400,\n",
       "                                                         500],\n",
       "                                        'reg_alpha': [0, 0.1, 0.2, 0.3, 0.4],\n",
       "                                        'reg_lambda': [0, 0.1, 0.2, 0.3, 0.4],\n",
       "                                        'subsample': [0.6, 0.7, 0.8, 0.9, 1.0]},\n",
       "                   random_state=42, scoring='r2', verbose=1)"
      ]
     },
     "execution_count": 41,
     "metadata": {},
     "output_type": "execute_result"
    }
   ],
   "source": [
    "# Randomized Search hyperparameter\n",
    "xgb_reg = XGBRegressor()\n",
    "param_dist = {\n",
    "    'n_estimators': [100, 200, 300, 400, 500],\n",
    "    'learning_rate': [0.001, 0.01, 0.05, 0.1, 0.2],\n",
    "    'max_depth': [3, 4, 5, 6, 7],\n",
    "    'subsample': [0.6, 0.7, 0.8, 0.9, 1.0],\n",
    "    'colsample_bytree': [0.6, 0.7, 0.8, 0.9, 1.0],\n",
    "    'gamma': [0, 0.1, 0.2, 0.3, 0.4],\n",
    "    'reg_alpha': [0, 0.1, 0.2, 0.3, 0.4],\n",
    "    'reg_lambda': [0, 0.1, 0.2, 0.3, 0.4]\n",
    "}\n",
    "\n",
    "random_search_xgb = RandomizedSearchCV(xgb_reg, param_distributions=param_dist, n_iter=50, scoring='r2', cv=5, verbose=1, random_state=42, n_jobs=-1)\n",
    "random_search_xgb.fit(X_train, y_train)"
   ]
  },
  {
   "cell_type": "code",
   "execution_count": 42,
   "id": "8e4804a9-6ec3-4d90-92a5-30b5fe12174c",
   "metadata": {},
   "outputs": [],
   "source": [
    "k_folds = KFold(n_splits = 5)\n",
    "xgb_mae = cross_val_score(random_search_xgb.best_estimator_, X, y.values.ravel(), cv = k_folds, scoring= \"neg_mean_absolute_error\") * -1\n",
    "xgb_r2 = cross_val_score(random_search_xgb.best_estimator_, X, y.values.ravel(), cv = k_folds, scoring= \"r2\")\n",
    "xgb_rmse = np.sqrt(cross_val_score(random_search_xgb.best_estimator_, X, y.values.ravel(), cv = k_folds, scoring= \"neg_mean_squared_error\")*-1)"
   ]
  },
  {
   "cell_type": "code",
   "execution_count": 43,
   "id": "cf7134fd-61a4-4101-86a1-13bf3788e821",
   "metadata": {},
   "outputs": [
    {
     "name": "stdout",
     "output_type": "stream",
     "text": [
      "Best parameters found:  {'subsample': 0.8, 'reg_lambda': 0.3, 'reg_alpha': 0, 'n_estimators': 400, 'max_depth': 5, 'learning_rate': 0.01, 'gamma': 0.3, 'colsample_bytree': 0.8}\n"
     ]
    }
   ],
   "source": [
    "best_params_xgb = random_search_xgb.best_params_\n",
    "print(\"Best parameters found: \", best_params_xgb)\n",
    "\n",
    "best_model_xgb = random_search_xgb.best_estimator_\n",
    "tunned_pred = best_model_xgb.predict(X_test)"
   ]
  },
  {
   "cell_type": "code",
   "execution_count": 44,
   "id": "787af6b0-5d77-4285-96c5-d6a068b1c2fb",
   "metadata": {},
   "outputs": [
    {
     "name": "stdout",
     "output_type": "stream",
     "text": [
      "RMSE :  27.058183\n",
      "mean absolute score: 23.27415323663656\n",
      "r2 score: 0.03610737970737399\n"
     ]
    }
   ],
   "source": [
    "tunned_xgb_rmse = np.sqrt(mean_squared_error(y_test, tunned_pred))\n",
    "print(\"RMSE : % f\" %(tunned_xgb_rmse))\n",
    "tunned_xgb_mae = mean_absolute_error(y_test, tunned_pred)\n",
    "print('mean absolute score:', tunned_xgb_mae)\n",
    "tunned_xgb_r2 = r2_score(y_test, tunned_pred)\n",
    "print('r2 score:',tunned_xgb_r2)"
   ]
  },
  {
   "cell_type": "code",
   "execution_count": 45,
   "id": "c041682b-9fa4-4e14-a253-213878a1bb5b",
   "metadata": {},
   "outputs": [
    {
     "data": {
      "text/plain": [
       "{'Tunned': {'r2': array([0.09221005, 0.04517767, 0.0655475 , 0.05311941, 0.08202705]),\n",
       "  'rmse': array([26.26105878, 26.09046938, 26.2582535 , 26.49698655, 26.14715451]),\n",
       "  'mae': array([22.75927899, 22.44635742, 22.53494443, 22.64685959, 22.36723794])},\n",
       " 'Untunned': {'r2': array([0.02496797, 0.01905765, 0.02236296, 0.01642636, 0.0207567 ]),\n",
       "  'rmse': array([27.21629414, 26.4449257 , 26.85814684, 27.00550602, 27.0056599 ]),\n",
       "  'mae': array([23.7660956 , 22.85734831, 23.38884178, 23.45160627, 23.32131874])}}"
      ]
     },
     "execution_count": 45,
     "metadata": {},
     "output_type": "execute_result"
    }
   ],
   "source": [
    "xgb_results = {\n",
    "    \"Tunned\": {\"r2\": xgb_r2, \"rmse\": xgb_rmse, \"mae\": xgb_mae},\n",
    "    \"Untunned\": {\"r2\": untunned_r2_results_xgb, \"rmse\": untunned_rmse_results_xgb, \"mae\": untunned_mae_results_xgb}\n",
    "}\n",
    "xgb_results"
   ]
  },
  {
   "cell_type": "code",
   "execution_count": 46,
   "id": "a38b7531-44e5-4622-883e-cbc013d26597",
   "metadata": {},
   "outputs": [
    {
     "data": {
      "image/png": "[encoded data removed]",
      "text/plain": [
       "<Figure size 1800x600 with 3 Axes>"
      ]
     },
     "metadata": {},
     "output_type": "display_data"
    }
   ],
   "source": [
    "visualize(xgb_results, \"Xgboost\")"
   ]
  },
  {
   "cell_type": "markdown",
   "id": "8514a885-1a1d-4e1a-8c64-7c0984842f9c",
   "metadata": {},
   "source": [
    "### Gradient Boost"
   ]
  },
  {
   "cell_type": "code",
   "execution_count": 47,
   "id": "97843557-09f4-4546-a2fe-736ac83722b5",
   "metadata": {},
   "outputs": [
    {
     "name": "stdout",
     "output_type": "stream",
     "text": [
      "Root mean Square error: 27.25\n",
      "Mean Absolute error: 23.41\n",
      "r2 score: 0.02\n"
     ]
    }
   ],
   "source": [
    " #Instantiate Gradient Boosting Regressor\n",
    "from sklearn.ensemble import GradientBoostingRegressor\n",
    "from sklearn.metrics import mean_squared_error\n",
    "gbr = GradientBoostingRegressor(loss='absolute_error',\n",
    "                                learning_rate=0.01,\n",
    "                                n_estimators=1000,\n",
    "                                max_depth = 6,\n",
    "                                random_state = 42,\n",
    "                                max_features = 5)\n",
    "\n",
    "# Fit to training set\n",
    "gbr.fit(X_train, y_train)\n",
    "\n",
    "# Predict on test set\n",
    "y_pred = gbr.predict(X_test)\n",
    "\n",
    "# test set RMSE\n",
    "untunned_test_rmse_gb = mean_squared_error(y_test, y_pred) ** (1 / 2)\n",
    "untunned_test_r2_gb = r2_score(y_test, y_pred)\n",
    "untunned_test_mae_gb = mean_absolute_error(y_test, y_pred)\n",
    "# Print rmse\n",
    "print('Root mean Square error: {:.2f}'.format(untunned_test_rmse_gb))\n",
    "print('Mean Absolute error: {:.2f}'.format(untunned_test_mae_gb))\n",
    "print('r2 score: {:.2f}'.format(untunned_test_r2_gb))"
   ]
  },
  {
   "cell_type": "code",
   "execution_count": 48,
   "id": "1872d1af-1f04-4fa4-a2e4-8bc9fa6a7ad0",
   "metadata": {},
   "outputs": [],
   "source": [
    "k_folds = KFold(n_splits = 5)\n",
    "untunned_gb_mae = cross_val_score(gbr, X, y.values.ravel(), cv = k_folds, scoring= \"neg_mean_absolute_error\") * -1\n",
    "untunned_gb_r2 = cross_val_score(gbr, X, y.values.ravel(), cv = k_folds, scoring= \"r2\")\n",
    "untunned_gb_rmse = np.sqrt(cross_val_score(gbr, X, y.values.ravel(), cv = k_folds, scoring= \"neg_mean_squared_error\")*-1)"
   ]
  },
  {
   "cell_type": "code",
   "execution_count": 49,
   "id": "5fa12fa3-3cf5-4adf-9f31-3383767f6d18",
   "metadata": {},
   "outputs": [
    {
     "name": "stdout",
     "output_type": "stream",
     "text": [
      "Best Hyperparameters:  {'subsample': 0.8, 'n_estimators': 150, 'min_samples_split': 9, 'min_samples_leaf': 9, 'max_depth': 3, 'learning_rate': 0.042222222222222223}\n"
     ]
    }
   ],
   "source": [
    "param_dist = {\n",
    "    'n_estimators': np.arange(50, 201, 50),\n",
    "    'learning_rate': np.linspace(0.01, 0.3, 10),\n",
    "    'max_depth': np.arange(3, 11, 2),\n",
    "    'min_samples_split': np.arange(2, 11),\n",
    "    'min_samples_leaf': np.arange(1, 11),\n",
    "    'subsample': np.linspace(0.6, 1.0, 5)\n",
    "}\n",
    "\n",
    "random_search_gbr = RandomizedSearchCV(\n",
    "    estimator= GradientBoostingRegressor(),\n",
    "    scoring=scoring,\n",
    "    refit=\"r2\",\n",
    "    param_distributions=param_dist,\n",
    "    n_iter=100,  # Number of parameter settings sampled\n",
    "    cv=5,  # Number of folds in cross-validation\n",
    "    random_state=42,\n",
    "    n_jobs=-1  # Use all available cores\n",
    ")\n",
    "\n",
    "random_search_gbr.fit(X_train, y_train)\n",
    "\n",
    "# Extract the best hyperparameters\n",
    "best_params_gbr = random_search_gbr.best_params_\n",
    "print(\"Best Hyperparameters: \", best_params_gbr)\n",
    "\n",
    "# Extract cross-validation results\n",
    "cv_results_gbr = pd.DataFrame(random_search_gbr.cv_results_)\n"
   ]
  },
  {
   "cell_type": "code",
   "execution_count": 50,
   "id": "b719a48a-61c8-40a9-b75b-17003891d759",
   "metadata": {},
   "outputs": [],
   "source": [
    "k_folds = KFold(n_splits = 5)\n",
    "tunned_mae_gb = cross_val_score(random_search_gbr.best_estimator_, X, y.values.ravel(), cv = k_folds, scoring= \"neg_mean_absolute_error\") * -1\n",
    "tunned_r2_gb = cross_val_score(random_search_gbr.best_estimator_, X, y.values.ravel(), cv = k_folds, scoring= \"r2\")\n",
    "tunned_rmse_gb = np.sqrt(cross_val_score(random_search_gbr.best_estimator_, X, y.values.ravel(), cv = k_folds, scoring= \"neg_mean_squared_error\")*-1)"
   ]
  },
  {
   "cell_type": "code",
   "execution_count": 51,
   "id": "cc804169-f1cc-4dcc-8009-fa7cc587ff18",
   "metadata": {},
   "outputs": [],
   "source": [
    "gbr_r2 = cv_results_gbr['mean_test_r2'] *-1\n",
    "mean_gbr_r2 = gbr_r2.mean()\n",
    "gbr_mae = cv_results_gbr['mean_test_neg_mean_absolute_error'] * -1\n",
    "mean_gbr_mae = gbr_mae.mean()\n",
    "gbr_rmse = np.sqrt(cv_results_gbr['mean_test_neg_mean_squared_error'] * -1)\n",
    "mean_gbr_rmse = gbr_rmse.mean()"
   ]
  },
  {
   "cell_type": "code",
   "execution_count": 52,
   "id": "408e861a-22e1-4303-8a15-be967bf2373e",
   "metadata": {},
   "outputs": [
    {
     "data": {
      "text/plain": [
       "{'Tunned': {'r2': array([0.0940609 , 0.04710846, 0.05282399, 0.06402926, 0.08635519]),\n",
       "  'rmse': array([26.22951484, 26.0319387 , 26.4869976 , 26.43604886, 26.16353225]),\n",
       "  'mae': array([22.6796396 , 22.33494916, 22.61581036, 22.51748428, 22.43849962])},\n",
       " 'Untunned': {'r2': array([0.08958189, 0.041399  , 0.04925469, 0.04078452, 0.07337072]),\n",
       "  'rmse': array([26.29904581, 26.14204437, 26.48617934, 26.66901451, 26.27014678]),\n",
       "  'mae': array([22.70554267, 22.32684408, 22.62399411, 22.67274332, 22.33993808])}}"
      ]
     },
     "execution_count": 52,
     "metadata": {},
     "output_type": "execute_result"
    }
   ],
   "source": [
    "gb_results = {\n",
    "    \"Tunned\": {\"r2\": tunned_r2_gb, \"rmse\": tunned_rmse_gb, \"mae\": tunned_mae_gb},\n",
    "    \"Untunned\": {\"r2\": untunned_gb_r2, \"rmse\": untunned_gb_rmse, \"mae\": untunned_gb_mae}\n",
    "}\n",
    "gb_results"
   ]
  },
  {
   "cell_type": "code",
   "execution_count": 53,
   "id": "547802ad-8825-40ce-ae39-569f90adedd9",
   "metadata": {},
   "outputs": [
    {
     "data": {
      "image/png": "[encoded data removed]",
      "text/plain": [
       "<Figure size 1800x600 with 3 Axes>"
      ]
     },
     "metadata": {},
     "output_type": "display_data"
    }
   ],
   "source": [
    "visualize(xgb_results, \"Gradient Boosting\")"
   ]
  },
  {
   "cell_type": "markdown",
   "id": "27a816bd-2af8-4459-a906-79f80963de2f",
   "metadata": {},
   "source": [
    "### ANN"
   ]
  },
  {
   "cell_type": "code",
   "execution_count": 54,
   "id": "cc57e87a-7613-4ee5-821d-44bee59b99b9",
   "metadata": {},
   "outputs": [],
   "source": [
    "# Normalize the data\n",
    "scaler = StandardScaler()\n",
    "X_train_scaled =  scaler.fit_transform(X_train)\n",
    "X_test_scaled = scaler.transform(X_test)\n",
    "X_scaled = scaler.transform(X)"
   ]
  },
  {
   "cell_type": "code",
   "execution_count": 55,
   "id": "8b26ad9a-0b9e-4cb3-a67a-877651edc7d7",
   "metadata": {},
   "outputs": [],
   "source": [
    "# Create the model with increased max_iter\n",
    "scoring = {\n",
    "    'rmse': make_scorer(mean_squared_error, greater_is_better=False, squared=False),\n",
    "    'mae': make_scorer(mean_absolute_error, greater_is_better=False),\n",
    "    'r2': make_scorer(r2_score)\n",
    "}\n",
    "untunned_mlp = MLPRegressor(hidden_layer_sizes=(100,), max_iter=1000, random_state=42)\n",
    "scores = cross_validate(untunned_mlp, X_train_scaled, y_train, cv=5, scoring=scoring, return_train_score=True)\n"
   ]
  },
  {
   "cell_type": "code",
   "execution_count": 56,
   "id": "aa565343-44d5-4a9d-ab46-0398d4a67cfb",
   "metadata": {},
   "outputs": [
    {
     "name": "stdout",
     "output_type": "stream",
     "text": [
      "RMSE: 47.78318564739997\n",
      "MAE: 23.880567514590393\n",
      "R²: -3.1640689423023174\n"
     ]
    }
   ],
   "source": [
    "print(\"RMSE:\", -np.mean(scores['test_rmse']))\n",
    "print(\"MAE:\", -np.mean(scores['test_mae']))\n",
    "print(\"R²:\", np.mean(scores['test_r2']))"
   ]
  },
  {
   "cell_type": "code",
   "execution_count": 57,
   "id": "c13fa9e7-6375-4b69-9905-ddaba018cec9",
   "metadata": {},
   "outputs": [],
   "source": [
    "untunned_r2_mlp = np.mean(scores['test_r2'])\n",
    "untunned_rmse_mlp = -np.mean(scores['test_rmse'])\n",
    "untunned_mae_mlp = -np.mean(scores['test_mae'])\n"
   ]
  },
  {
   "cell_type": "code",
   "execution_count": 58,
   "id": "b3cf8856-1578-4b7f-947e-333839c314dd",
   "metadata": {},
   "outputs": [],
   "source": [
    "param_grid = {\n",
    "    'hidden_layer_sizes': [(5,), (10,), (20,), (10, 10), (20, 10)],\n",
    "    'activation': ['identity', 'logistic', 'tanh', 'relu'],\n",
    "    'solver': ['adam', 'sgd'],\n",
    "    # 'alpha': [0.0001, 0.001, 0.01],\n",
    "    # 'batch_size': [10, 20, 40],\n",
    "    'learning_rate': ['constant', 'adaptive'],\n",
    "    'learning_rate_init': [0.001, 0.01, 0.1],  # Added learning rate initialization\n",
    "}"
   ]
  },
  {
   "cell_type": "code",
   "execution_count": 59,
   "id": "91c8e561-a3e6-446b-8b96-24b036c09b09",
   "metadata": {},
   "outputs": [],
   "source": [
    "# Create the model with increased max_iter\n",
    "mlp = MLPRegressor(max_iter=2000)"
   ]
  },
  {
   "cell_type": "code",
   "execution_count": 60,
   "id": "0514d3f4-4ffe-4165-b6b3-e495d860b8c9",
   "metadata": {},
   "outputs": [
    {
     "ename": "KeyboardInterrupt",
     "evalue": "",
     "output_type": "error",
     "traceback": [
      "\u001b[0;31m---------------------------------------------------------------------------\u001b[0m",
      "\u001b[0;31mKeyboardInterrupt\u001b[0m                         Traceback (most recent call last)",
      "Input \u001b[0;32mIn [60]\u001b[0m, in \u001b[0;36m<cell line: 2>\u001b[0;34m()\u001b[0m\n\u001b[1;32m      2\u001b[0m \u001b[38;5;28;01mwith\u001b[39;00m parallel_backend(\u001b[38;5;124m'\u001b[39m\u001b[38;5;124mthreading\u001b[39m\u001b[38;5;124m'\u001b[39m):\n\u001b[1;32m      3\u001b[0m     grid \u001b[38;5;241m=\u001b[39m GridSearchCV(estimator\u001b[38;5;241m=\u001b[39mmlp, param_grid\u001b[38;5;241m=\u001b[39mparam_grid, n_jobs\u001b[38;5;241m=\u001b[39m\u001b[38;5;241m-\u001b[39m\u001b[38;5;241m1\u001b[39m, cv\u001b[38;5;241m=\u001b[39m\u001b[38;5;241m5\u001b[39m, scoring\u001b[38;5;241m=\u001b[39m\u001b[38;5;124m'\u001b[39m\u001b[38;5;124mr2\u001b[39m\u001b[38;5;124m'\u001b[39m, return_train_score\u001b[38;5;241m=\u001b[39m\u001b[38;5;28;01mTrue\u001b[39;00m)\n\u001b[0;32m----> 4\u001b[0m     grid_result \u001b[38;5;241m=\u001b[39m \u001b[43mgrid\u001b[49m\u001b[38;5;241;43m.\u001b[39;49m\u001b[43mfit\u001b[49m\u001b[43m(\u001b[49m\u001b[43mX_train_scaled\u001b[49m\u001b[43m,\u001b[49m\u001b[43m \u001b[49m\u001b[43my_train\u001b[49m\u001b[43m)\u001b[49m\n\u001b[1;32m      6\u001b[0m \u001b[38;5;66;03m# Summarize the results\u001b[39;00m\n\u001b[1;32m      7\u001b[0m \u001b[38;5;28mprint\u001b[39m(\u001b[38;5;124mf\u001b[39m\u001b[38;5;124m\"\u001b[39m\u001b[38;5;124mBest: \u001b[39m\u001b[38;5;132;01m{\u001b[39;00mgrid_result\u001b[38;5;241m.\u001b[39mbest_score_\u001b[38;5;132;01m}\u001b[39;00m\u001b[38;5;124m using \u001b[39m\u001b[38;5;132;01m{\u001b[39;00mgrid_result\u001b[38;5;241m.\u001b[39mbest_params_\u001b[38;5;132;01m}\u001b[39;00m\u001b[38;5;124m\"\u001b[39m)\n",
      "File \u001b[0;32m~/.local/iguide/lib/python3.8/site-packages/sklearn/base.py:1152\u001b[0m, in \u001b[0;36m_fit_context.<locals>.decorator.<locals>.wrapper\u001b[0;34m(estimator, *args, **kwargs)\u001b[0m\n\u001b[1;32m   1145\u001b[0m     estimator\u001b[38;5;241m.\u001b[39m_validate_params()\n\u001b[1;32m   1147\u001b[0m \u001b[38;5;28;01mwith\u001b[39;00m config_context(\n\u001b[1;32m   1148\u001b[0m     skip_parameter_validation\u001b[38;5;241m=\u001b[39m(\n\u001b[1;32m   1149\u001b[0m         prefer_skip_nested_validation \u001b[38;5;129;01mor\u001b[39;00m global_skip_validation\n\u001b[1;32m   1150\u001b[0m     )\n\u001b[1;32m   1151\u001b[0m ):\n\u001b[0;32m-> 1152\u001b[0m     \u001b[38;5;28;01mreturn\u001b[39;00m \u001b[43mfit_method\u001b[49m\u001b[43m(\u001b[49m\u001b[43mestimator\u001b[49m\u001b[43m,\u001b[49m\u001b[43m \u001b[49m\u001b[38;5;241;43m*\u001b[39;49m\u001b[43margs\u001b[49m\u001b[43m,\u001b[49m\u001b[43m \u001b[49m\u001b[38;5;241;43m*\u001b[39;49m\u001b[38;5;241;43m*\u001b[39;49m\u001b[43mkwargs\u001b[49m\u001b[43m)\u001b[49m\n",
      "File \u001b[0;32m~/.local/iguide/lib/python3.8/site-packages/sklearn/model_selection/_search.py:898\u001b[0m, in \u001b[0;36mBaseSearchCV.fit\u001b[0;34m(self, X, y, groups, **fit_params)\u001b[0m\n\u001b[1;32m    892\u001b[0m     results \u001b[38;5;241m=\u001b[39m \u001b[38;5;28mself\u001b[39m\u001b[38;5;241m.\u001b[39m_format_results(\n\u001b[1;32m    893\u001b[0m         all_candidate_params, n_splits, all_out, all_more_results\n\u001b[1;32m    894\u001b[0m     )\n\u001b[1;32m    896\u001b[0m     \u001b[38;5;28;01mreturn\u001b[39;00m results\n\u001b[0;32m--> 898\u001b[0m \u001b[38;5;28;43mself\u001b[39;49m\u001b[38;5;241;43m.\u001b[39;49m\u001b[43m_run_search\u001b[49m\u001b[43m(\u001b[49m\u001b[43mevaluate_candidates\u001b[49m\u001b[43m)\u001b[49m\n\u001b[1;32m    900\u001b[0m \u001b[38;5;66;03m# multimetric is determined here because in the case of a callable\u001b[39;00m\n\u001b[1;32m    901\u001b[0m \u001b[38;5;66;03m# self.scoring the return type is only known after calling\u001b[39;00m\n\u001b[1;32m    902\u001b[0m first_test_score \u001b[38;5;241m=\u001b[39m all_out[\u001b[38;5;241m0\u001b[39m][\u001b[38;5;124m\"\u001b[39m\u001b[38;5;124mtest_scores\u001b[39m\u001b[38;5;124m\"\u001b[39m]\n",
      "File \u001b[0;32m~/.local/iguide/lib/python3.8/site-packages/sklearn/model_selection/_search.py:1422\u001b[0m, in \u001b[0;36mGridSearchCV._run_search\u001b[0;34m(self, evaluate_candidates)\u001b[0m\n\u001b[1;32m   1420\u001b[0m \u001b[38;5;28;01mdef\u001b[39;00m \u001b[38;5;21m_run_search\u001b[39m(\u001b[38;5;28mself\u001b[39m, evaluate_candidates):\n\u001b[1;32m   1421\u001b[0m \u001b[38;5;250m    \u001b[39m\u001b[38;5;124;03m\"\"\"Search all candidates in param_grid\"\"\"\u001b[39;00m\n\u001b[0;32m-> 1422\u001b[0m     \u001b[43mevaluate_candidates\u001b[49m\u001b[43m(\u001b[49m\u001b[43mParameterGrid\u001b[49m\u001b[43m(\u001b[49m\u001b[38;5;28;43mself\u001b[39;49m\u001b[38;5;241;43m.\u001b[39;49m\u001b[43mparam_grid\u001b[49m\u001b[43m)\u001b[49m\u001b[43m)\u001b[49m\n",
      "File \u001b[0;32m~/.local/iguide/lib/python3.8/site-packages/sklearn/model_selection/_search.py:845\u001b[0m, in \u001b[0;36mBaseSearchCV.fit.<locals>.evaluate_candidates\u001b[0;34m(candidate_params, cv, more_results)\u001b[0m\n\u001b[1;32m    837\u001b[0m \u001b[38;5;28;01mif\u001b[39;00m \u001b[38;5;28mself\u001b[39m\u001b[38;5;241m.\u001b[39mverbose \u001b[38;5;241m>\u001b[39m \u001b[38;5;241m0\u001b[39m:\n\u001b[1;32m    838\u001b[0m     \u001b[38;5;28mprint\u001b[39m(\n\u001b[1;32m    839\u001b[0m         \u001b[38;5;124m\"\u001b[39m\u001b[38;5;124mFitting \u001b[39m\u001b[38;5;132;01m{0}\u001b[39;00m\u001b[38;5;124m folds for each of \u001b[39m\u001b[38;5;132;01m{1}\u001b[39;00m\u001b[38;5;124m candidates,\u001b[39m\u001b[38;5;124m\"\u001b[39m\n\u001b[1;32m    840\u001b[0m         \u001b[38;5;124m\"\u001b[39m\u001b[38;5;124m totalling \u001b[39m\u001b[38;5;132;01m{2}\u001b[39;00m\u001b[38;5;124m fits\u001b[39m\u001b[38;5;124m\"\u001b[39m\u001b[38;5;241m.\u001b[39mformat(\n\u001b[1;32m    841\u001b[0m             n_splits, n_candidates, n_candidates \u001b[38;5;241m*\u001b[39m n_splits\n\u001b[1;32m    842\u001b[0m         )\n\u001b[1;32m    843\u001b[0m     )\n\u001b[0;32m--> 845\u001b[0m out \u001b[38;5;241m=\u001b[39m \u001b[43mparallel\u001b[49m\u001b[43m(\u001b[49m\n\u001b[1;32m    846\u001b[0m \u001b[43m    \u001b[49m\u001b[43mdelayed\u001b[49m\u001b[43m(\u001b[49m\u001b[43m_fit_and_score\u001b[49m\u001b[43m)\u001b[49m\u001b[43m(\u001b[49m\n\u001b[1;32m    847\u001b[0m \u001b[43m        \u001b[49m\u001b[43mclone\u001b[49m\u001b[43m(\u001b[49m\u001b[43mbase_estimator\u001b[49m\u001b[43m)\u001b[49m\u001b[43m,\u001b[49m\n\u001b[1;32m    848\u001b[0m \u001b[43m        \u001b[49m\u001b[43mX\u001b[49m\u001b[43m,\u001b[49m\n\u001b[1;32m    849\u001b[0m \u001b[43m        \u001b[49m\u001b[43my\u001b[49m\u001b[43m,\u001b[49m\n\u001b[1;32m    850\u001b[0m \u001b[43m        \u001b[49m\u001b[43mtrain\u001b[49m\u001b[38;5;241;43m=\u001b[39;49m\u001b[43mtrain\u001b[49m\u001b[43m,\u001b[49m\n\u001b[1;32m    851\u001b[0m \u001b[43m        \u001b[49m\u001b[43mtest\u001b[49m\u001b[38;5;241;43m=\u001b[39;49m\u001b[43mtest\u001b[49m\u001b[43m,\u001b[49m\n\u001b[1;32m    852\u001b[0m \u001b[43m        \u001b[49m\u001b[43mparameters\u001b[49m\u001b[38;5;241;43m=\u001b[39;49m\u001b[43mparameters\u001b[49m\u001b[43m,\u001b[49m\n\u001b[1;32m    853\u001b[0m \u001b[43m        \u001b[49m\u001b[43msplit_progress\u001b[49m\u001b[38;5;241;43m=\u001b[39;49m\u001b[43m(\u001b[49m\u001b[43msplit_idx\u001b[49m\u001b[43m,\u001b[49m\u001b[43m \u001b[49m\u001b[43mn_splits\u001b[49m\u001b[43m)\u001b[49m\u001b[43m,\u001b[49m\n\u001b[1;32m    854\u001b[0m \u001b[43m        \u001b[49m\u001b[43mcandidate_progress\u001b[49m\u001b[38;5;241;43m=\u001b[39;49m\u001b[43m(\u001b[49m\u001b[43mcand_idx\u001b[49m\u001b[43m,\u001b[49m\u001b[43m \u001b[49m\u001b[43mn_candidates\u001b[49m\u001b[43m)\u001b[49m\u001b[43m,\u001b[49m\n\u001b[1;32m    855\u001b[0m \u001b[43m        \u001b[49m\u001b[38;5;241;43m*\u001b[39;49m\u001b[38;5;241;43m*\u001b[39;49m\u001b[43mfit_and_score_kwargs\u001b[49m\u001b[43m,\u001b[49m\n\u001b[1;32m    856\u001b[0m \u001b[43m    \u001b[49m\u001b[43m)\u001b[49m\n\u001b[1;32m    857\u001b[0m \u001b[43m    \u001b[49m\u001b[38;5;28;43;01mfor\u001b[39;49;00m\u001b[43m \u001b[49m\u001b[43m(\u001b[49m\u001b[43mcand_idx\u001b[49m\u001b[43m,\u001b[49m\u001b[43m \u001b[49m\u001b[43mparameters\u001b[49m\u001b[43m)\u001b[49m\u001b[43m,\u001b[49m\u001b[43m \u001b[49m\u001b[43m(\u001b[49m\u001b[43msplit_idx\u001b[49m\u001b[43m,\u001b[49m\u001b[43m \u001b[49m\u001b[43m(\u001b[49m\u001b[43mtrain\u001b[49m\u001b[43m,\u001b[49m\u001b[43m \u001b[49m\u001b[43mtest\u001b[49m\u001b[43m)\u001b[49m\u001b[43m)\u001b[49m\u001b[43m \u001b[49m\u001b[38;5;129;43;01min\u001b[39;49;00m\u001b[43m \u001b[49m\u001b[43mproduct\u001b[49m\u001b[43m(\u001b[49m\n\u001b[1;32m    858\u001b[0m \u001b[43m        \u001b[49m\u001b[38;5;28;43menumerate\u001b[39;49m\u001b[43m(\u001b[49m\u001b[43mcandidate_params\u001b[49m\u001b[43m)\u001b[49m\u001b[43m,\u001b[49m\u001b[43m \u001b[49m\u001b[38;5;28;43menumerate\u001b[39;49m\u001b[43m(\u001b[49m\u001b[43mcv\u001b[49m\u001b[38;5;241;43m.\u001b[39;49m\u001b[43msplit\u001b[49m\u001b[43m(\u001b[49m\u001b[43mX\u001b[49m\u001b[43m,\u001b[49m\u001b[43m \u001b[49m\u001b[43my\u001b[49m\u001b[43m,\u001b[49m\u001b[43m \u001b[49m\u001b[43mgroups\u001b[49m\u001b[43m)\u001b[49m\u001b[43m)\u001b[49m\n\u001b[1;32m    859\u001b[0m \u001b[43m    \u001b[49m\u001b[43m)\u001b[49m\n\u001b[1;32m    860\u001b[0m \u001b[43m\u001b[49m\u001b[43m)\u001b[49m\n\u001b[1;32m    862\u001b[0m \u001b[38;5;28;01mif\u001b[39;00m \u001b[38;5;28mlen\u001b[39m(out) \u001b[38;5;241m<\u001b[39m \u001b[38;5;241m1\u001b[39m:\n\u001b[1;32m    863\u001b[0m     \u001b[38;5;28;01mraise\u001b[39;00m \u001b[38;5;167;01mValueError\u001b[39;00m(\n\u001b[1;32m    864\u001b[0m         \u001b[38;5;124m\"\u001b[39m\u001b[38;5;124mNo fits were performed. \u001b[39m\u001b[38;5;124m\"\u001b[39m\n\u001b[1;32m    865\u001b[0m         \u001b[38;5;124m\"\u001b[39m\u001b[38;5;124mWas the CV iterator empty? \u001b[39m\u001b[38;5;124m\"\u001b[39m\n\u001b[1;32m    866\u001b[0m         \u001b[38;5;124m\"\u001b[39m\u001b[38;5;124mWere there no candidates?\u001b[39m\u001b[38;5;124m\"\u001b[39m\n\u001b[1;32m    867\u001b[0m     )\n",
      "File \u001b[0;32m~/.local/iguide/lib/python3.8/site-packages/sklearn/utils/parallel.py:65\u001b[0m, in \u001b[0;36mParallel.__call__\u001b[0;34m(self, iterable)\u001b[0m\n\u001b[1;32m     60\u001b[0m config \u001b[38;5;241m=\u001b[39m get_config()\n\u001b[1;32m     61\u001b[0m iterable_with_config \u001b[38;5;241m=\u001b[39m (\n\u001b[1;32m     62\u001b[0m     (_with_config(delayed_func, config), args, kwargs)\n\u001b[1;32m     63\u001b[0m     \u001b[38;5;28;01mfor\u001b[39;00m delayed_func, args, kwargs \u001b[38;5;129;01min\u001b[39;00m iterable\n\u001b[1;32m     64\u001b[0m )\n\u001b[0;32m---> 65\u001b[0m \u001b[38;5;28;01mreturn\u001b[39;00m \u001b[38;5;28;43msuper\u001b[39;49m\u001b[43m(\u001b[49m\u001b[43m)\u001b[49m\u001b[38;5;241;43m.\u001b[39;49m\u001b[38;5;21;43m__call__\u001b[39;49m\u001b[43m(\u001b[49m\u001b[43miterable_with_config\u001b[49m\u001b[43m)\u001b[49m\n",
      "File \u001b[0;32m/cvmfs/iguide.purdue.edu/software/conda/iguide/lib/python3.8/site-packages/joblib/parallel.py:1098\u001b[0m, in \u001b[0;36mParallel.__call__\u001b[0;34m(self, iterable)\u001b[0m\n\u001b[1;32m   1095\u001b[0m     \u001b[38;5;28mself\u001b[39m\u001b[38;5;241m.\u001b[39m_iterating \u001b[38;5;241m=\u001b[39m \u001b[38;5;28;01mFalse\u001b[39;00m\n\u001b[1;32m   1097\u001b[0m \u001b[38;5;28;01mwith\u001b[39;00m \u001b[38;5;28mself\u001b[39m\u001b[38;5;241m.\u001b[39m_backend\u001b[38;5;241m.\u001b[39mretrieval_context():\n\u001b[0;32m-> 1098\u001b[0m     \u001b[38;5;28;43mself\u001b[39;49m\u001b[38;5;241;43m.\u001b[39;49m\u001b[43mretrieve\u001b[49m\u001b[43m(\u001b[49m\u001b[43m)\u001b[49m\n\u001b[1;32m   1099\u001b[0m \u001b[38;5;66;03m# Make sure that we get a last message telling us we are done\u001b[39;00m\n\u001b[1;32m   1100\u001b[0m elapsed_time \u001b[38;5;241m=\u001b[39m time\u001b[38;5;241m.\u001b[39mtime() \u001b[38;5;241m-\u001b[39m \u001b[38;5;28mself\u001b[39m\u001b[38;5;241m.\u001b[39m_start_time\n",
      "File \u001b[0;32m/cvmfs/iguide.purdue.edu/software/conda/iguide/lib/python3.8/site-packages/joblib/parallel.py:975\u001b[0m, in \u001b[0;36mParallel.retrieve\u001b[0;34m(self)\u001b[0m\n\u001b[1;32m    973\u001b[0m \u001b[38;5;28;01mtry\u001b[39;00m:\n\u001b[1;32m    974\u001b[0m     \u001b[38;5;28;01mif\u001b[39;00m \u001b[38;5;28mgetattr\u001b[39m(\u001b[38;5;28mself\u001b[39m\u001b[38;5;241m.\u001b[39m_backend, \u001b[38;5;124m'\u001b[39m\u001b[38;5;124msupports_timeout\u001b[39m\u001b[38;5;124m'\u001b[39m, \u001b[38;5;28;01mFalse\u001b[39;00m):\n\u001b[0;32m--> 975\u001b[0m         \u001b[38;5;28mself\u001b[39m\u001b[38;5;241m.\u001b[39m_output\u001b[38;5;241m.\u001b[39mextend(\u001b[43mjob\u001b[49m\u001b[38;5;241;43m.\u001b[39;49m\u001b[43mget\u001b[49m\u001b[43m(\u001b[49m\u001b[43mtimeout\u001b[49m\u001b[38;5;241;43m=\u001b[39;49m\u001b[38;5;28;43mself\u001b[39;49m\u001b[38;5;241;43m.\u001b[39;49m\u001b[43mtimeout\u001b[49m\u001b[43m)\u001b[49m)\n\u001b[1;32m    976\u001b[0m     \u001b[38;5;28;01melse\u001b[39;00m:\n\u001b[1;32m    977\u001b[0m         \u001b[38;5;28mself\u001b[39m\u001b[38;5;241m.\u001b[39m_output\u001b[38;5;241m.\u001b[39mextend(job\u001b[38;5;241m.\u001b[39mget())\n",
      "File \u001b[0;32m/cvmfs/iguide.purdue.edu/software/conda/iguide/lib/python3.8/multiprocessing/pool.py:765\u001b[0m, in \u001b[0;36mApplyResult.get\u001b[0;34m(self, timeout)\u001b[0m\n\u001b[1;32m    764\u001b[0m \u001b[38;5;28;01mdef\u001b[39;00m \u001b[38;5;21mget\u001b[39m(\u001b[38;5;28mself\u001b[39m, timeout\u001b[38;5;241m=\u001b[39m\u001b[38;5;28;01mNone\u001b[39;00m):\n\u001b[0;32m--> 765\u001b[0m     \u001b[38;5;28;43mself\u001b[39;49m\u001b[38;5;241;43m.\u001b[39;49m\u001b[43mwait\u001b[49m\u001b[43m(\u001b[49m\u001b[43mtimeout\u001b[49m\u001b[43m)\u001b[49m\n\u001b[1;32m    766\u001b[0m     \u001b[38;5;28;01mif\u001b[39;00m \u001b[38;5;129;01mnot\u001b[39;00m \u001b[38;5;28mself\u001b[39m\u001b[38;5;241m.\u001b[39mready():\n\u001b[1;32m    767\u001b[0m         \u001b[38;5;28;01mraise\u001b[39;00m \u001b[38;5;167;01mTimeoutError\u001b[39;00m\n",
      "File \u001b[0;32m/cvmfs/iguide.purdue.edu/software/conda/iguide/lib/python3.8/multiprocessing/pool.py:762\u001b[0m, in \u001b[0;36mApplyResult.wait\u001b[0;34m(self, timeout)\u001b[0m\n\u001b[1;32m    761\u001b[0m \u001b[38;5;28;01mdef\u001b[39;00m \u001b[38;5;21mwait\u001b[39m(\u001b[38;5;28mself\u001b[39m, timeout\u001b[38;5;241m=\u001b[39m\u001b[38;5;28;01mNone\u001b[39;00m):\n\u001b[0;32m--> 762\u001b[0m     \u001b[38;5;28;43mself\u001b[39;49m\u001b[38;5;241;43m.\u001b[39;49m\u001b[43m_event\u001b[49m\u001b[38;5;241;43m.\u001b[39;49m\u001b[43mwait\u001b[49m\u001b[43m(\u001b[49m\u001b[43mtimeout\u001b[49m\u001b[43m)\u001b[49m\n",
      "File \u001b[0;32m/cvmfs/iguide.purdue.edu/software/conda/iguide/lib/python3.8/threading.py:558\u001b[0m, in \u001b[0;36mEvent.wait\u001b[0;34m(self, timeout)\u001b[0m\n\u001b[1;32m    556\u001b[0m signaled \u001b[38;5;241m=\u001b[39m \u001b[38;5;28mself\u001b[39m\u001b[38;5;241m.\u001b[39m_flag\n\u001b[1;32m    557\u001b[0m \u001b[38;5;28;01mif\u001b[39;00m \u001b[38;5;129;01mnot\u001b[39;00m signaled:\n\u001b[0;32m--> 558\u001b[0m     signaled \u001b[38;5;241m=\u001b[39m \u001b[38;5;28;43mself\u001b[39;49m\u001b[38;5;241;43m.\u001b[39;49m\u001b[43m_cond\u001b[49m\u001b[38;5;241;43m.\u001b[39;49m\u001b[43mwait\u001b[49m\u001b[43m(\u001b[49m\u001b[43mtimeout\u001b[49m\u001b[43m)\u001b[49m\n\u001b[1;32m    559\u001b[0m \u001b[38;5;28;01mreturn\u001b[39;00m signaled\n",
      "File \u001b[0;32m/cvmfs/iguide.purdue.edu/software/conda/iguide/lib/python3.8/threading.py:302\u001b[0m, in \u001b[0;36mCondition.wait\u001b[0;34m(self, timeout)\u001b[0m\n\u001b[1;32m    300\u001b[0m \u001b[38;5;28;01mtry\u001b[39;00m:    \u001b[38;5;66;03m# restore state no matter what (e.g., KeyboardInterrupt)\u001b[39;00m\n\u001b[1;32m    301\u001b[0m     \u001b[38;5;28;01mif\u001b[39;00m timeout \u001b[38;5;129;01mis\u001b[39;00m \u001b[38;5;28;01mNone\u001b[39;00m:\n\u001b[0;32m--> 302\u001b[0m         \u001b[43mwaiter\u001b[49m\u001b[38;5;241;43m.\u001b[39;49m\u001b[43macquire\u001b[49m\u001b[43m(\u001b[49m\u001b[43m)\u001b[49m\n\u001b[1;32m    303\u001b[0m         gotit \u001b[38;5;241m=\u001b[39m \u001b[38;5;28;01mTrue\u001b[39;00m\n\u001b[1;32m    304\u001b[0m     \u001b[38;5;28;01melse\u001b[39;00m:\n",
      "\u001b[0;31mKeyboardInterrupt\u001b[0m: "
     ]
    }
   ],
   "source": [
    "# Perform Grid Search with threading backend\n",
    "with parallel_backend('threading'):\n",
    "    grid = GridSearchCV(estimator=mlp, param_grid=param_grid, n_jobs=-1, cv=5, scoring='r2', return_train_score=True)\n",
    "    grid_result = grid.fit(X_train_scaled, y_train)\n",
    "\n",
    "# Summarize the results\n",
    "print(f\"Best: {grid_result.best_score_} using {grid_result.best_params_}\")\n",
    "best_params_ann = grid_result.best_params_"
   ]
  },
  {
   "cell_type": "code",
   "execution_count": 61,
   "id": "02bda16a-a434-43d2-9c83-b0b5e5174c9c",
   "metadata": {},
   "outputs": [
    {
     "ename": "NameError",
     "evalue": "name 'grid_result' is not defined",
     "output_type": "error",
     "traceback": [
      "\u001b[0;31m---------------------------------------------------------------------------\u001b[0m",
      "\u001b[0;31mNameError\u001b[0m                                 Traceback (most recent call last)",
      "Input \u001b[0;32mIn [61]\u001b[0m, in \u001b[0;36m<cell line: 2>\u001b[0;34m()\u001b[0m\n\u001b[1;32m      1\u001b[0m \u001b[38;5;66;03m# Evaluate the best model on the test set\u001b[39;00m\n\u001b[0;32m----> 2\u001b[0m best_model \u001b[38;5;241m=\u001b[39m \u001b[43mgrid_result\u001b[49m\u001b[38;5;241m.\u001b[39mbest_estimator_\n\u001b[1;32m      3\u001b[0m y_pred \u001b[38;5;241m=\u001b[39m best_model\u001b[38;5;241m.\u001b[39mpredict(X_test_scaled)\n\u001b[1;32m      4\u001b[0m mse_ann \u001b[38;5;241m=\u001b[39m mean_squared_error(y_test, y_pred)\n",
      "\u001b[0;31mNameError\u001b[0m: name 'grid_result' is not defined"
     ]
    }
   ],
   "source": [
    "# # Evaluate the best model on the test set\n",
    "# best_model = grid_result.best_estimator_\n",
    "# y_pred = best_model.predict(X_test_scaled)\n",
    "# mse_ann = mean_squared_error(y_test, y_pred)\n",
    "# mae_ann = mean_absolute_error(y_test, y_pred)\n",
    "# r2_ann = r2_score(y_test, y_pred)\n",
    "# rmse_ann = np.sqrt(mse_ann)\n",
    "# print(f'Test RMSE: {rmse_ann}')\n",
    "# print(f'Test MAE: {mae_ann}')\n",
    "# print(f'Test R2: {r2_ann}')"
   ]
  },
  {
   "cell_type": "code",
   "execution_count": null,
   "id": "ebf79362-2f40-4818-8a2e-67305a9c1704",
   "metadata": {},
   "outputs": [],
   "source": [
    "# k_folds = KFold(n_splits = 5)\n",
    "# tunned_mae_ann = cross_val_score(best_model, X_scaled, y.values.ravel(), cv = k_folds, scoring= \"neg_mean_absolute_error\") * -1\n",
    "# tunned_r2_ann = cross_val_score(best_model, X_scaled, y.values.ravel(), cv = k_folds, scoring= \"r2\")\n",
    "# tunned_rmse_ann = np.sqrt(cross_val_score(best_model, X_scaled, y.values.ravel(), cv = k_folds, scoring= \"neg_mean_squared_error\")*-1)"
   ]
  },
  {
   "cell_type": "code",
   "execution_count": null,
   "id": "08c7e5ae-65f2-46cc-9120-adc1000c3a18",
   "metadata": {},
   "outputs": [],
   "source": [
    "# ann_results = {\n",
    "#     \"Tunned\": {\"r2\": tunned_r2_ann, \"rmse\": tunned_rmse_ann, \"mae\": tunned_mae_ann},\n",
    "#     \"Untunned\": {\"r2\": scores['test_r2'], \"rmse\": -scores['test_rmse'], \"mae\": -scores['test_mae']}\n",
    "# }\n",
    "# ann_results"
   ]
  },
  {
   "cell_type": "code",
   "execution_count": null,
   "id": "abe51d7a-fad1-4d4f-94ba-3f2a2a760a0d",
   "metadata": {},
   "outputs": [],
   "source": [
    "# visualize(ann_results, \"ANN\")"
   ]
  },
  {
   "cell_type": "markdown",
   "id": "d0a2c7cc-7e97-4560-92d8-e0f8ae86679e",
   "metadata": {},
   "source": [
    "## Results before finetuning"
   ]
  },
  {
   "cell_type": "code",
   "execution_count": 62,
   "id": "7efca6cd-75ac-4370-b989-dfdf0562e968",
   "metadata": {},
   "outputs": [],
   "source": [
    "#before fine tuning\n",
    "untuned_results ={\"Scoring\": [],\n",
    "               \"random forest\":[],\n",
    "               \"decision tree\":[],\n",
    "                \"Xgboost\": [],\n",
    "                \"gradient boost\": [],\n",
    "                \"ann\": []\n",
    "              }\n",
    "untuned_results[\"Scoring\"].append(\"r2_score\")\n",
    "untuned_results[\"random forest\"].append(average_untuned_r2_rf)\n",
    "untuned_results[\"decision tree\"].append(average_untuned_r2_dt)\n",
    "untuned_results[\"Xgboost\"].append(untunned_xgb_r2)\n",
    "untuned_results[\"gradient boost\"].append(untunned_test_r2_gb)\n",
    "untuned_results[\"ann\"].append(untunned_r2_mlp)\n",
    "\n",
    "untuned_results[\"Scoring\"].append(\"MAE\")\n",
    "untuned_results[\"random forest\"].append(average_untuned_mae_rf)\n",
    "untuned_results[\"decision tree\"].append(average_untuned_mae_dt)\n",
    "untuned_results[\"Xgboost\"].append(untunned_xgb_mae)\n",
    "untuned_results[\"gradient boost\"].append(untunned_test_mae_gb)\n",
    "untuned_results[\"ann\"].append(untunned_mae_mlp)\n",
    "\n",
    "untuned_results[\"Scoring\"].append(\"RMSE\")\n",
    "untuned_results[\"random forest\"].append(average_untuned_rmse_rf)\n",
    "untuned_results[\"decision tree\"].append(average_untuned_rmse_dt)\n",
    "untuned_results[\"Xgboost\"].append(untunned_xgb_rmse)\n",
    "untuned_results[\"gradient boost\"].append(untunned_test_rmse_gb)\n",
    "untuned_results[\"ann\"].append(untunned_rmse_mlp)\n"
   ]
  },
  {
   "cell_type": "code",
   "execution_count": 63,
   "id": "977c975a-da1f-4f2a-ad70-23cc1156a726",
   "metadata": {},
   "outputs": [
    {
     "data": {
      "text/html": [
       "<div>\n",
       "<style scoped>\n",
       "    .dataframe tbody tr th:only-of-type {\n",
       "        vertical-align: middle;\n",
       "    }\n",
       "\n",
       "    .dataframe tbody tr th {\n",
       "        vertical-align: top;\n",
       "    }\n",
       "\n",
       "    .dataframe thead th {\n",
       "        text-align: right;\n",
       "    }\n",
       "</style>\n",
       "<table border=\"1\" class=\"dataframe\">\n",
       "  <thead>\n",
       "    <tr style=\"text-align: right;\">\n",
       "      <th></th>\n",
       "      <th>Scoring</th>\n",
       "      <th>random forest</th>\n",
       "      <th>decision tree</th>\n",
       "      <th>Xgboost</th>\n",
       "      <th>gradient boost</th>\n",
       "      <th>ann</th>\n",
       "    </tr>\n",
       "  </thead>\n",
       "  <tbody>\n",
       "    <tr>\n",
       "      <th>0</th>\n",
       "      <td>r2_score</td>\n",
       "      <td>0.038715</td>\n",
       "      <td>-0.839695</td>\n",
       "      <td>0.019713</td>\n",
       "      <td>0.022478</td>\n",
       "      <td>-3.164069</td>\n",
       "    </tr>\n",
       "    <tr>\n",
       "      <th>1</th>\n",
       "      <td>MAE</td>\n",
       "      <td>22.772904</td>\n",
       "      <td>29.928192</td>\n",
       "      <td>23.794327</td>\n",
       "      <td>23.406486</td>\n",
       "      <td>23.880568</td>\n",
       "    </tr>\n",
       "    <tr>\n",
       "      <th>2</th>\n",
       "      <td>RMSE</td>\n",
       "      <td>26.655257</td>\n",
       "      <td>36.864345</td>\n",
       "      <td>27.287323</td>\n",
       "      <td>27.248812</td>\n",
       "      <td>47.783186</td>\n",
       "    </tr>\n",
       "  </tbody>\n",
       "</table>\n",
       "</div>"
      ],
      "text/plain": [
       "    Scoring  random forest  decision tree    Xgboost  gradient boost  \\\n",
       "0  r2_score       0.038715      -0.839695   0.019713        0.022478   \n",
       "1       MAE      22.772904      29.928192  23.794327       23.406486   \n",
       "2      RMSE      26.655257      36.864345  27.287323       27.248812   \n",
       "\n",
       "         ann  \n",
       "0  -3.164069  \n",
       "1  23.880568  \n",
       "2  47.783186  "
      ]
     },
     "execution_count": 63,
     "metadata": {},
     "output_type": "execute_result"
    }
   ],
   "source": [
    "untuned_results = pd.DataFrame(untuned_results)\n",
    "untuned_results"
   ]
  },
  {
   "cell_type": "markdown",
   "id": "675c4943-c736-4d0a-82af-350d6f763cbd",
   "metadata": {},
   "source": [
    "## Overall finetuned Results"
   ]
  },
  {
   "cell_type": "code",
   "execution_count": 64,
   "id": "e28f0b3d-2bf2-405d-aef0-fbbecae2859f",
   "metadata": {},
   "outputs": [],
   "source": [
    "results = {\"Scoring\": [],\n",
    "           \"random forest\":[],\n",
    "           \"decision tree\":[],\n",
    "           \"Xgboost\":[],\n",
    "           \"Gradient Boost\":[],\n",
    "#           \"ANN\":[]\n",
    "          }\n",
    "results[\"Scoring\"].append(\"r2_score\")\n",
    "results[\"random forest\"].append(mean_rf_r2)\n",
    "results[\"decision tree\"].append(average_r2_dt)\n",
    "results[\"Xgboost\"].append(tunned_xgb_r2)\n",
    "results[\"Gradient Boost\"].append(mean_gbr_r2)\n",
    "# results[\"ANN\"].append(r2_ann)"
   ]
  },
  {
   "cell_type": "code",
   "execution_count": 65,
   "id": "6f3cbf4c-fb57-4851-9a69-ecd4602cf7e6",
   "metadata": {},
   "outputs": [],
   "source": [
    "results[\"Scoring\"].append(\"MAE\")\n",
    "results[\"random forest\"].append(mean_rf_mae)\n",
    "results[\"decision tree\"].append(average_mae_dt)\n",
    "results[\"Xgboost\"].append(tunned_xgb_mae)\n",
    "results[\"Gradient Boost\"].append(mean_gbr_mae)\n",
    "# results[\"ANN\"].append(mae_ann)"
   ]
  },
  {
   "cell_type": "code",
   "execution_count": 66,
   "id": "3a6d0f25-c7c7-4b5c-9f11-dd97732727d8",
   "metadata": {},
   "outputs": [],
   "source": [
    "results[\"Scoring\"].append(\"RMSE\")\n",
    "results[\"random forest\"].append(mean_rf_rmse)\n",
    "results[\"decision tree\"].append(average_rmse_dt)\n",
    "results[\"Xgboost\"].append(tunned_xgb_rmse)\n",
    "results[\"Gradient Boost\"].append(mean_gbr_rmse)\n",
    "# results[\"ANN\"].append(rmse_ann)"
   ]
  },
  {
   "cell_type": "code",
   "execution_count": 67,
   "id": "cd247745-e71d-4ca5-a4f8-bb23413f7a11",
   "metadata": {},
   "outputs": [
    {
     "data": {
      "text/html": [
       "<div>\n",
       "<style scoped>\n",
       "    .dataframe tbody tr th:only-of-type {\n",
       "        vertical-align: middle;\n",
       "    }\n",
       "\n",
       "    .dataframe tbody tr th {\n",
       "        vertical-align: top;\n",
       "    }\n",
       "\n",
       "    .dataframe thead th {\n",
       "        text-align: right;\n",
       "    }\n",
       "</style>\n",
       "<table border=\"1\" class=\"dataframe\">\n",
       "  <thead>\n",
       "    <tr style=\"text-align: right;\">\n",
       "      <th></th>\n",
       "      <th>Scoring</th>\n",
       "      <th>random forest</th>\n",
       "      <th>decision tree</th>\n",
       "      <th>Xgboost</th>\n",
       "      <th>Gradient Boost</th>\n",
       "    </tr>\n",
       "  </thead>\n",
       "  <tbody>\n",
       "    <tr>\n",
       "      <th>0</th>\n",
       "      <td>r2_score</td>\n",
       "      <td>-0.052611</td>\n",
       "      <td>-0.029429</td>\n",
       "      <td>0.036107</td>\n",
       "      <td>0.033061</td>\n",
       "    </tr>\n",
       "    <tr>\n",
       "      <th>1</th>\n",
       "      <td>MAE</td>\n",
       "      <td>22.579063</td>\n",
       "      <td>23.273391</td>\n",
       "      <td>23.274153</td>\n",
       "      <td>23.180586</td>\n",
       "    </tr>\n",
       "    <tr>\n",
       "      <th>2</th>\n",
       "      <td>RMSE</td>\n",
       "      <td>26.364507</td>\n",
       "      <td>26.657603</td>\n",
       "      <td>27.058183</td>\n",
       "      <td>27.502510</td>\n",
       "    </tr>\n",
       "  </tbody>\n",
       "</table>\n",
       "</div>"
      ],
      "text/plain": [
       "    Scoring  random forest  decision tree    Xgboost  Gradient Boost\n",
       "0  r2_score      -0.052611      -0.029429   0.036107        0.033061\n",
       "1       MAE      22.579063      23.273391  23.274153       23.180586\n",
       "2      RMSE      26.364507      26.657603  27.058183       27.502510"
      ]
     },
     "execution_count": 67,
     "metadata": {},
     "output_type": "execute_result"
    }
   ],
   "source": [
    "df_results = pd.DataFrame(results)\n",
    "df_results"
   ]
  },
  {
   "cell_type": "markdown",
   "id": "e4326827-f74c-464e-b372-997fa150a11c",
   "metadata": {},
   "source": [
    "## Best Parameters"
   ]
  },
  {
   "cell_type": "code",
   "execution_count": null,
   "id": "905245a1-2710-460a-b1c0-3052fd155623",
   "metadata": {},
   "outputs": [],
   "source": [
    "best_params = {\n",
    "    \"ANN\":best_params_ann,\n",
    "    \"Random Forest\":best_params_rf,\n",
    "    \"Decision Tree\":best_params_dt,\n",
    "    \"XgBoost\":best_params_xgb,\n",
    "    \"Gradient Boost\": best_params_gbr,\n",
    "\n",
    "}\n",
    "best_params"
   ]
  },
  {
   "cell_type": "code",
   "execution_count": null,
   "id": "fac47bc1-1c04-4a92-bb3b-66cec26e2303",
   "metadata": {},
   "outputs": [],
   "source": []
  }
 ],
 "metadata": {
  "kernelspec": {
   "display_name": "iguide",
   "language": "python",
   "name": "iguide"
  },
  "language_info": {
   "codemirror_mode": {
    "name": "ipython",
    "version": 3
   },
   "file_extension": ".py",
   "mimetype": "text/x-python",
   "name": "python",
   "nbconvert_exporter": "python",
   "pygments_lexer": "ipython3",
   "version": "3.8.16"
  }
 },
 "nbformat": 4,
 "nbformat_minor": 5
}
